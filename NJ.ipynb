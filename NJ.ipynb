{
 "cells": [
  {
   "cell_type": "code",
   "execution_count": 38,
   "id": "black-monthly",
   "metadata": {},
   "outputs": [],
   "source": [
    "#Paralel Precision LinkedIn Data Analysis"
   ]
  },
  {
   "cell_type": "code",
   "execution_count": 39,
   "id": "meaningful-singing",
   "metadata": {},
   "outputs": [],
   "source": [
    "import pandas as pd"
   ]
  },
  {
   "cell_type": "code",
   "execution_count": 40,
   "id": "lightweight-delta",
   "metadata": {},
   "outputs": [],
   "source": [
    "import numpy as np"
   ]
  },
  {
   "cell_type": "code",
   "execution_count": 41,
   "id": "cultural-married",
   "metadata": {},
   "outputs": [],
   "source": [
    "import seaborn as sns"
   ]
  },
  {
   "cell_type": "code",
   "execution_count": 42,
   "id": "applied-architect",
   "metadata": {},
   "outputs": [],
   "source": [
    "df = pd.read_csv('dux-soup-visit-data@2021-02-23 10h50.csv')"
   ]
  },
  {
   "cell_type": "code",
   "execution_count": 43,
   "id": "noticed-fifteen",
   "metadata": {},
   "outputs": [
    {
     "data": {
      "text/html": [
       "<div>\n",
       "<style scoped>\n",
       "    .dataframe tbody tr th:only-of-type {\n",
       "        vertical-align: middle;\n",
       "    }\n",
       "\n",
       "    .dataframe tbody tr th {\n",
       "        vertical-align: top;\n",
       "    }\n",
       "\n",
       "    .dataframe thead th {\n",
       "        text-align: right;\n",
       "    }\n",
       "</style>\n",
       "<table border=\"1\" class=\"dataframe\">\n",
       "  <thead>\n",
       "    <tr style=\"text-align: right;\">\n",
       "      <th></th>\n",
       "      <th>id</th>\n",
       "      <th>VisitTime</th>\n",
       "      <th>Profile</th>\n",
       "      <th>SalesProfile</th>\n",
       "      <th>Picture</th>\n",
       "      <th>Degree</th>\n",
       "      <th>First Name</th>\n",
       "      <th>Middle Name</th>\n",
       "      <th>Last Name</th>\n",
       "      <th>Connections</th>\n",
       "      <th>...</th>\n",
       "      <th>CompanyWebsite</th>\n",
       "      <th>Email</th>\n",
       "      <th>Phone</th>\n",
       "      <th>IM</th>\n",
       "      <th>Twitter</th>\n",
       "      <th>Location</th>\n",
       "      <th>Industry</th>\n",
       "      <th>My Tags</th>\n",
       "      <th>My Notes</th>\n",
       "      <th>Unnamed: 24</th>\n",
       "    </tr>\n",
       "  </thead>\n",
       "  <tbody>\n",
       "    <tr>\n",
       "      <th>0</th>\n",
       "      <td>id.187999202</td>\n",
       "      <td>2021/01/15 09:41:38</td>\n",
       "      <td>https://www.linkedin.com/in/philippaartus</td>\n",
       "      <td>https://www.linkedin.com/sales/people/ACwAAAs0...</td>\n",
       "      <td>https://media-exp1.licdn.com/dms/image/C5603AQ...</td>\n",
       "      <td>3</td>\n",
       "      <td>Philippa</td>\n",
       "      <td></td>\n",
       "      <td>Artus</td>\n",
       "      <td>1340</td>\n",
       "      <td>...</td>\n",
       "      <td>https://www.moorwand.com</td>\n",
       "      <td></td>\n",
       "      <td></td>\n",
       "      <td></td>\n",
       "      <td></td>\n",
       "      <td>London Area, United Kingdom</td>\n",
       "      <td>Financial Services</td>\n",
       "      <td>|🦆-default-invited</td>\n",
       "      <td>NaN</td>\n",
       "      <td>NaN</td>\n",
       "    </tr>\n",
       "    <tr>\n",
       "      <th>1</th>\n",
       "      <td>id.28086713</td>\n",
       "      <td>2021/01/15 09:42:50</td>\n",
       "      <td>https://www.linkedin.com/in/jappy-takhar-a754a59</td>\n",
       "      <td>https://www.linkedin.com/sales/people/ACwAAAGs...</td>\n",
       "      <td>https://media-exp1.licdn.com/dms/image/C5603AQ...</td>\n",
       "      <td>3</td>\n",
       "      <td>Jappy</td>\n",
       "      <td></td>\n",
       "      <td>Takhar</td>\n",
       "      <td>1376</td>\n",
       "      <td>...</td>\n",
       "      <td>http://www.comitfs.com</td>\n",
       "      <td></td>\n",
       "      <td></td>\n",
       "      <td></td>\n",
       "      <td></td>\n",
       "      <td>London, England, United Kingdom</td>\n",
       "      <td>Financial Services</td>\n",
       "      <td>|🦆-default-invited</td>\n",
       "      <td>NaN</td>\n",
       "      <td>NaN</td>\n",
       "    </tr>\n",
       "    <tr>\n",
       "      <th>2</th>\n",
       "      <td>id.1310264</td>\n",
       "      <td>2021/01/15 09:43:39</td>\n",
       "      <td>https://www.linkedin.com/in/anjelikaklamp</td>\n",
       "      <td>https://www.linkedin.com/sales/people/ACwAAAAT...</td>\n",
       "      <td></td>\n",
       "      <td>3</td>\n",
       "      <td>Anjelika</td>\n",
       "      <td>Klamp</td>\n",
       "      <td>Cfa</td>\n",
       "      <td>1069</td>\n",
       "      <td>...</td>\n",
       "      <td>http://www.igen-capital.com</td>\n",
       "      <td></td>\n",
       "      <td></td>\n",
       "      <td></td>\n",
       "      <td></td>\n",
       "      <td>London, England, United Kingdom</td>\n",
       "      <td>Financial Services</td>\n",
       "      <td>|🦆-default-invited</td>\n",
       "      <td>NaN</td>\n",
       "      <td>NaN</td>\n",
       "    </tr>\n",
       "    <tr>\n",
       "      <th>3</th>\n",
       "      <td>id.137682286</td>\n",
       "      <td>2021/01/15 09:44:55</td>\n",
       "      <td>https://www.linkedin.com/in/henry-arundel-2ba1...</td>\n",
       "      <td>https://www.linkedin.com/sales/people/ACwAAAg0...</td>\n",
       "      <td>https://media-exp1.licdn.com/dms/image/C5603AQ...</td>\n",
       "      <td>3</td>\n",
       "      <td>Henry</td>\n",
       "      <td></td>\n",
       "      <td>Arundel</td>\n",
       "      <td>623</td>\n",
       "      <td>...</td>\n",
       "      <td>http://www.nobleinsurance.co.uk</td>\n",
       "      <td></td>\n",
       "      <td></td>\n",
       "      <td></td>\n",
       "      <td></td>\n",
       "      <td>London, England, United Kingdom</td>\n",
       "      <td>Financial Services</td>\n",
       "      <td>|🦆-default-invited</td>\n",
       "      <td>NaN</td>\n",
       "      <td>NaN</td>\n",
       "    </tr>\n",
       "    <tr>\n",
       "      <th>4</th>\n",
       "      <td>id.2726244</td>\n",
       "      <td>2021/01/15 09:46:20</td>\n",
       "      <td>https://www.linkedin.com/in/simon-freeman-830ab5</td>\n",
       "      <td>https://www.linkedin.com/sales/people/ACwAAAAp...</td>\n",
       "      <td>https://media-exp1.licdn.com/dms/image/C4D03AQ...</td>\n",
       "      <td>3</td>\n",
       "      <td>Simon</td>\n",
       "      <td></td>\n",
       "      <td>Freeman</td>\n",
       "      <td>515</td>\n",
       "      <td>...</td>\n",
       "      <td></td>\n",
       "      <td></td>\n",
       "      <td></td>\n",
       "      <td></td>\n",
       "      <td>snowbirdfinance</td>\n",
       "      <td>Kingston upon Thames, England, United Kingdom</td>\n",
       "      <td>Financial Services</td>\n",
       "      <td>|🦆-default-invited</td>\n",
       "      <td>NaN</td>\n",
       "      <td>NaN</td>\n",
       "    </tr>\n",
       "  </tbody>\n",
       "</table>\n",
       "<p>5 rows × 25 columns</p>\n",
       "</div>"
      ],
      "text/plain": [
       "             id            VisitTime  \\\n",
       "0  id.187999202  2021/01/15 09:41:38   \n",
       "1   id.28086713  2021/01/15 09:42:50   \n",
       "2    id.1310264  2021/01/15 09:43:39   \n",
       "3  id.137682286  2021/01/15 09:44:55   \n",
       "4    id.2726244  2021/01/15 09:46:20   \n",
       "\n",
       "                                             Profile  \\\n",
       "0          https://www.linkedin.com/in/philippaartus   \n",
       "1   https://www.linkedin.com/in/jappy-takhar-a754a59   \n",
       "2          https://www.linkedin.com/in/anjelikaklamp   \n",
       "3  https://www.linkedin.com/in/henry-arundel-2ba1...   \n",
       "4   https://www.linkedin.com/in/simon-freeman-830ab5   \n",
       "\n",
       "                                        SalesProfile  \\\n",
       "0  https://www.linkedin.com/sales/people/ACwAAAs0...   \n",
       "1  https://www.linkedin.com/sales/people/ACwAAAGs...   \n",
       "2  https://www.linkedin.com/sales/people/ACwAAAAT...   \n",
       "3  https://www.linkedin.com/sales/people/ACwAAAg0...   \n",
       "4  https://www.linkedin.com/sales/people/ACwAAAAp...   \n",
       "\n",
       "                                             Picture Degree First Name  \\\n",
       "0  https://media-exp1.licdn.com/dms/image/C5603AQ...      3   Philippa   \n",
       "1  https://media-exp1.licdn.com/dms/image/C5603AQ...      3      Jappy   \n",
       "2                                                         3   Anjelika   \n",
       "3  https://media-exp1.licdn.com/dms/image/C5603AQ...      3      Henry   \n",
       "4  https://media-exp1.licdn.com/dms/image/C4D03AQ...      3      Simon   \n",
       "\n",
       "  Middle Name Last Name  Connections  ...                   CompanyWebsite  \\\n",
       "0                 Artus         1340  ...         https://www.moorwand.com   \n",
       "1                Takhar         1376  ...           http://www.comitfs.com   \n",
       "2       Klamp       Cfa         1069  ...      http://www.igen-capital.com   \n",
       "3               Arundel          623  ...  http://www.nobleinsurance.co.uk   \n",
       "4               Freeman          515  ...                                    \n",
       "\n",
       "  Email Phone IM          Twitter  \\\n",
       "0                                   \n",
       "1                                   \n",
       "2                                   \n",
       "3                                   \n",
       "4                 snowbirdfinance   \n",
       "\n",
       "                                        Location            Industry  \\\n",
       "0                    London Area, United Kingdom  Financial Services   \n",
       "1                London, England, United Kingdom  Financial Services   \n",
       "2                London, England, United Kingdom  Financial Services   \n",
       "3                London, England, United Kingdom  Financial Services   \n",
       "4  Kingston upon Thames, England, United Kingdom  Financial Services   \n",
       "\n",
       "              My Tags My Notes Unnamed: 24  \n",
       "0  |🦆-default-invited      NaN         NaN  \n",
       "1  |🦆-default-invited      NaN         NaN  \n",
       "2  |🦆-default-invited      NaN         NaN  \n",
       "3  |🦆-default-invited      NaN         NaN  \n",
       "4  |🦆-default-invited      NaN         NaN  \n",
       "\n",
       "[5 rows x 25 columns]"
      ]
     },
     "execution_count": 43,
     "metadata": {},
     "output_type": "execute_result"
    }
   ],
   "source": [
    "df.head()"
   ]
  },
  {
   "cell_type": "code",
   "execution_count": 44,
   "id": "handmade-borough",
   "metadata": {},
   "outputs": [
    {
     "name": "stdout",
     "output_type": "stream",
     "text": [
      "<class 'pandas.core.frame.DataFrame'>\n",
      "RangeIndex: 1332 entries, 0 to 1331\n",
      "Data columns (total 25 columns):\n",
      " #   Column          Non-Null Count  Dtype  \n",
      "---  ------          --------------  -----  \n",
      " 0   id              1332 non-null   object \n",
      " 1   VisitTime       1332 non-null   object \n",
      " 2   Profile         1332 non-null   object \n",
      " 3   SalesProfile    1332 non-null   object \n",
      " 4   Picture         1332 non-null   object \n",
      " 5   Degree          1332 non-null   object \n",
      " 6   First Name      1332 non-null   object \n",
      " 7   Middle Name     1332 non-null   object \n",
      " 8   Last Name       1332 non-null   object \n",
      " 9   Connections     1332 non-null   int64  \n",
      " 10  Summary         1332 non-null   object \n",
      " 11  From            1332 non-null   object \n",
      " 12  Title           1332 non-null   object \n",
      " 13  Company         1332 non-null   object \n",
      " 14  CompanyProfile  1332 non-null   object \n",
      " 15  CompanyWebsite  1332 non-null   object \n",
      " 16  Email           1332 non-null   object \n",
      " 17  Phone           1332 non-null   object \n",
      " 18  IM              1332 non-null   object \n",
      " 19  Twitter         1332 non-null   object \n",
      " 20  Location        1332 non-null   object \n",
      " 21  Industry        1332 non-null   object \n",
      " 22  My Tags         1303 non-null   object \n",
      " 23  My Notes        0 non-null      float64\n",
      " 24  Unnamed: 24     0 non-null      float64\n",
      "dtypes: float64(2), int64(1), object(22)\n",
      "memory usage: 260.3+ KB\n"
     ]
    }
   ],
   "source": [
    "df.info()"
   ]
  },
  {
   "cell_type": "code",
   "execution_count": 45,
   "id": "technological-channels",
   "metadata": {},
   "outputs": [],
   "source": [
    "First=df['Degree']=='1'"
   ]
  },
  {
   "cell_type": "code",
   "execution_count": 46,
   "id": "colored-gabriel",
   "metadata": {},
   "outputs": [
    {
     "data": {
      "text/html": [
       "<div>\n",
       "<style scoped>\n",
       "    .dataframe tbody tr th:only-of-type {\n",
       "        vertical-align: middle;\n",
       "    }\n",
       "\n",
       "    .dataframe tbody tr th {\n",
       "        vertical-align: top;\n",
       "    }\n",
       "\n",
       "    .dataframe thead th {\n",
       "        text-align: right;\n",
       "    }\n",
       "</style>\n",
       "<table border=\"1\" class=\"dataframe\">\n",
       "  <thead>\n",
       "    <tr style=\"text-align: right;\">\n",
       "      <th></th>\n",
       "      <th>id</th>\n",
       "      <th>VisitTime</th>\n",
       "      <th>Profile</th>\n",
       "      <th>SalesProfile</th>\n",
       "      <th>Picture</th>\n",
       "      <th>Degree</th>\n",
       "      <th>First Name</th>\n",
       "      <th>Middle Name</th>\n",
       "      <th>Last Name</th>\n",
       "      <th>Connections</th>\n",
       "      <th>...</th>\n",
       "      <th>CompanyWebsite</th>\n",
       "      <th>Email</th>\n",
       "      <th>Phone</th>\n",
       "      <th>IM</th>\n",
       "      <th>Twitter</th>\n",
       "      <th>Location</th>\n",
       "      <th>Industry</th>\n",
       "      <th>My Tags</th>\n",
       "      <th>My Notes</th>\n",
       "      <th>Unnamed: 24</th>\n",
       "    </tr>\n",
       "  </thead>\n",
       "  <tbody>\n",
       "    <tr>\n",
       "      <th>1078</th>\n",
       "      <td>id.292791566</td>\n",
       "      <td>2021/02/18 13:36:44</td>\n",
       "      <td>https://www.linkedin.com/in/rowan-gallagher-69...</td>\n",
       "      <td>https://www.linkedin.com/sales/people/ACwAABFz...</td>\n",
       "      <td>https://media-exp1.licdn.com/dms/image/C4E03AQ...</td>\n",
       "      <td>1</td>\n",
       "      <td>Rowan</td>\n",
       "      <td></td>\n",
       "      <td>Gallagher</td>\n",
       "      <td>1156</td>\n",
       "      <td>...</td>\n",
       "      <td>http://fundsquire.co.uk</td>\n",
       "      <td></td>\n",
       "      <td></td>\n",
       "      <td></td>\n",
       "      <td></td>\n",
       "      <td>London, England, United Kingdom</td>\n",
       "      <td>Financial Services</td>\n",
       "      <td>|🦆-default-invited|sent blog 2</td>\n",
       "      <td>NaN</td>\n",
       "      <td>NaN</td>\n",
       "    </tr>\n",
       "    <tr>\n",
       "      <th>1089</th>\n",
       "      <td>id.66143089</td>\n",
       "      <td>2021/02/18 13:54:15</td>\n",
       "      <td>https://www.linkedin.com/in/simone-gallo-3011991a</td>\n",
       "      <td>https://www.linkedin.com/sales/people/ACwAAAPx...</td>\n",
       "      <td>https://media-exp1.licdn.com/dms/image/C5603AQ...</td>\n",
       "      <td>1</td>\n",
       "      <td>Simone</td>\n",
       "      <td></td>\n",
       "      <td>Gallo</td>\n",
       "      <td>4625</td>\n",
       "      <td>...</td>\n",
       "      <td>http://www.mspartners.org</td>\n",
       "      <td></td>\n",
       "      <td></td>\n",
       "      <td></td>\n",
       "      <td></td>\n",
       "      <td>London Area, United Kingdom</td>\n",
       "      <td>Financial Services</td>\n",
       "      <td>|🦆-default-invited|Sent Blog 1|sent blog 2</td>\n",
       "      <td>NaN</td>\n",
       "      <td>NaN</td>\n",
       "    </tr>\n",
       "    <tr>\n",
       "      <th>1115</th>\n",
       "      <td>id.448763478</td>\n",
       "      <td>2021/02/18 14:30:04</td>\n",
       "      <td>https://www.linkedin.com/in/ellatennant</td>\n",
       "      <td>https://www.linkedin.com/sales/people/ACwAABq_...</td>\n",
       "      <td>https://media-exp1.licdn.com/dms/image/C4D03AQ...</td>\n",
       "      <td>1</td>\n",
       "      <td>Ella</td>\n",
       "      <td></td>\n",
       "      <td>Tennant</td>\n",
       "      <td>794</td>\n",
       "      <td>...</td>\n",
       "      <td>http://bonhamandbrook.co.uk</td>\n",
       "      <td>ellatennant97@gmail.com</td>\n",
       "      <td>07821194052</td>\n",
       "      <td></td>\n",
       "      <td></td>\n",
       "      <td>London, England, United Kingdom</td>\n",
       "      <td>Financial Services</td>\n",
       "      <td>|🦆-default-invited|sent blog 2</td>\n",
       "      <td>NaN</td>\n",
       "      <td>NaN</td>\n",
       "    </tr>\n",
       "    <tr>\n",
       "      <th>1178</th>\n",
       "      <td>id.61007265</td>\n",
       "      <td>2021/02/18 15:54:31</td>\n",
       "      <td>https://www.linkedin.com/in/charlienicholls1</td>\n",
       "      <td>https://www.linkedin.com/sales/people/ACwAAAOi...</td>\n",
       "      <td>https://media-exp1.licdn.com/dms/image/C4D03AQ...</td>\n",
       "      <td>1</td>\n",
       "      <td>Charlie</td>\n",
       "      <td></td>\n",
       "      <td>Nicholls</td>\n",
       "      <td>737</td>\n",
       "      <td>...</td>\n",
       "      <td>http://www.cpnim.com</td>\n",
       "      <td>charlie@cpnim.co.uk</td>\n",
       "      <td>01243 819101</td>\n",
       "      <td>charlieontoast</td>\n",
       "      <td>Moneyontoast</td>\n",
       "      <td>London, England, United Kingdom</td>\n",
       "      <td>Financial Services</td>\n",
       "      <td>|🦆-default-invited|sent blog 2</td>\n",
       "      <td>NaN</td>\n",
       "      <td>NaN</td>\n",
       "    </tr>\n",
       "    <tr>\n",
       "      <th>1143</th>\n",
       "      <td>id.230107729</td>\n",
       "      <td>2021/02/18 15:10:34</td>\n",
       "      <td>https://www.linkedin.com/in/vincentcarratala</td>\n",
       "      <td>https://www.linkedin.com/sales/people/ACwAAA23...</td>\n",
       "      <td>https://media-exp1.licdn.com/dms/image/C4D03AQ...</td>\n",
       "      <td>1</td>\n",
       "      <td>Vincent</td>\n",
       "      <td></td>\n",
       "      <td>Carratala</td>\n",
       "      <td>11241</td>\n",
       "      <td>...</td>\n",
       "      <td>https://blockex.com/</td>\n",
       "      <td>vincent@vcis.group</td>\n",
       "      <td></td>\n",
       "      <td></td>\n",
       "      <td></td>\n",
       "      <td>London Area, United Kingdom</td>\n",
       "      <td>Financial Services</td>\n",
       "      <td>|🦆-default-invited|sent blog 2</td>\n",
       "      <td>NaN</td>\n",
       "      <td>NaN</td>\n",
       "    </tr>\n",
       "  </tbody>\n",
       "</table>\n",
       "<p>5 rows × 25 columns</p>\n",
       "</div>"
      ],
      "text/plain": [
       "                id            VisitTime  \\\n",
       "1078  id.292791566  2021/02/18 13:36:44   \n",
       "1089   id.66143089  2021/02/18 13:54:15   \n",
       "1115  id.448763478  2021/02/18 14:30:04   \n",
       "1178   id.61007265  2021/02/18 15:54:31   \n",
       "1143  id.230107729  2021/02/18 15:10:34   \n",
       "\n",
       "                                                Profile  \\\n",
       "1078  https://www.linkedin.com/in/rowan-gallagher-69...   \n",
       "1089  https://www.linkedin.com/in/simone-gallo-3011991a   \n",
       "1115            https://www.linkedin.com/in/ellatennant   \n",
       "1178       https://www.linkedin.com/in/charlienicholls1   \n",
       "1143       https://www.linkedin.com/in/vincentcarratala   \n",
       "\n",
       "                                           SalesProfile  \\\n",
       "1078  https://www.linkedin.com/sales/people/ACwAABFz...   \n",
       "1089  https://www.linkedin.com/sales/people/ACwAAAPx...   \n",
       "1115  https://www.linkedin.com/sales/people/ACwAABq_...   \n",
       "1178  https://www.linkedin.com/sales/people/ACwAAAOi...   \n",
       "1143  https://www.linkedin.com/sales/people/ACwAAA23...   \n",
       "\n",
       "                                                Picture Degree First Name  \\\n",
       "1078  https://media-exp1.licdn.com/dms/image/C4E03AQ...      1      Rowan   \n",
       "1089  https://media-exp1.licdn.com/dms/image/C5603AQ...      1     Simone   \n",
       "1115  https://media-exp1.licdn.com/dms/image/C4D03AQ...      1       Ella   \n",
       "1178  https://media-exp1.licdn.com/dms/image/C4D03AQ...      1    Charlie   \n",
       "1143  https://media-exp1.licdn.com/dms/image/C4D03AQ...      1    Vincent   \n",
       "\n",
       "     Middle Name  Last Name  Connections  ...               CompanyWebsite  \\\n",
       "1078              Gallagher         1156  ...      http://fundsquire.co.uk   \n",
       "1089                  Gallo         4625  ...    http://www.mspartners.org   \n",
       "1115                Tennant          794  ...  http://bonhamandbrook.co.uk   \n",
       "1178               Nicholls          737  ...         http://www.cpnim.com   \n",
       "1143              Carratala        11241  ...         https://blockex.com/   \n",
       "\n",
       "                        Email         Phone              IM       Twitter  \\\n",
       "1078                                                                        \n",
       "1089                                                                        \n",
       "1115  ellatennant97@gmail.com   07821194052                                 \n",
       "1178      charlie@cpnim.co.uk  01243 819101  charlieontoast  Moneyontoast   \n",
       "1143       vincent@vcis.group                                               \n",
       "\n",
       "                             Location            Industry  \\\n",
       "1078  London, England, United Kingdom  Financial Services   \n",
       "1089      London Area, United Kingdom  Financial Services   \n",
       "1115  London, England, United Kingdom  Financial Services   \n",
       "1178  London, England, United Kingdom  Financial Services   \n",
       "1143      London Area, United Kingdom  Financial Services   \n",
       "\n",
       "                                         My Tags My Notes Unnamed: 24  \n",
       "1078              |🦆-default-invited|sent blog 2      NaN         NaN  \n",
       "1089  |🦆-default-invited|Sent Blog 1|sent blog 2      NaN         NaN  \n",
       "1115              |🦆-default-invited|sent blog 2      NaN         NaN  \n",
       "1178              |🦆-default-invited|sent blog 2      NaN         NaN  \n",
       "1143              |🦆-default-invited|sent blog 2      NaN         NaN  \n",
       "\n",
       "[5 rows x 25 columns]"
      ]
     },
     "execution_count": 46,
     "metadata": {},
     "output_type": "execute_result"
    }
   ],
   "source": [
    "df[First].sample(5)"
   ]
  },
  {
   "cell_type": "code",
   "execution_count": 47,
   "id": "fossil-municipality",
   "metadata": {},
   "outputs": [],
   "source": [
    "first=df[First]"
   ]
  },
  {
   "cell_type": "code",
   "execution_count": 48,
   "id": "adjustable-conditioning",
   "metadata": {},
   "outputs": [
    {
     "name": "stdout",
     "output_type": "stream",
     "text": [
      "<class 'pandas.core.frame.DataFrame'>\n",
      "Int64Index: 157 entries, 209 to 1213\n",
      "Data columns (total 25 columns):\n",
      " #   Column          Non-Null Count  Dtype  \n",
      "---  ------          --------------  -----  \n",
      " 0   id              157 non-null    object \n",
      " 1   VisitTime       157 non-null    object \n",
      " 2   Profile         157 non-null    object \n",
      " 3   SalesProfile    157 non-null    object \n",
      " 4   Picture         157 non-null    object \n",
      " 5   Degree          157 non-null    object \n",
      " 6   First Name      157 non-null    object \n",
      " 7   Middle Name     157 non-null    object \n",
      " 8   Last Name       157 non-null    object \n",
      " 9   Connections     157 non-null    int64  \n",
      " 10  Summary         157 non-null    object \n",
      " 11  From            157 non-null    object \n",
      " 12  Title           157 non-null    object \n",
      " 13  Company         157 non-null    object \n",
      " 14  CompanyProfile  157 non-null    object \n",
      " 15  CompanyWebsite  157 non-null    object \n",
      " 16  Email           157 non-null    object \n",
      " 17  Phone           157 non-null    object \n",
      " 18  IM              157 non-null    object \n",
      " 19  Twitter         157 non-null    object \n",
      " 20  Location        157 non-null    object \n",
      " 21  Industry        157 non-null    object \n",
      " 22  My Tags         157 non-null    object \n",
      " 23  My Notes        0 non-null      float64\n",
      " 24  Unnamed: 24     0 non-null      float64\n",
      "dtypes: float64(2), int64(1), object(22)\n",
      "memory usage: 31.9+ KB\n"
     ]
    }
   ],
   "source": [
    "first.info()"
   ]
  },
  {
   "cell_type": "code",
   "execution_count": 49,
   "id": "rolled-lithuania",
   "metadata": {},
   "outputs": [],
   "source": [
    "citynumbers=first.groupby('Location')['Degree'] \\\n",
    "                             .count() \\\n",
    "                             .reset_index(name='count') \\\n",
    "                             .sort_values(['count'], ascending=False) \\\n",
    "                             .head(5)"
   ]
  },
  {
   "cell_type": "code",
   "execution_count": 50,
   "id": "knowing-andrews",
   "metadata": {},
   "outputs": [
    {
     "data": {
      "text/html": [
       "<div>\n",
       "<style scoped>\n",
       "    .dataframe tbody tr th:only-of-type {\n",
       "        vertical-align: middle;\n",
       "    }\n",
       "\n",
       "    .dataframe tbody tr th {\n",
       "        vertical-align: top;\n",
       "    }\n",
       "\n",
       "    .dataframe thead th {\n",
       "        text-align: right;\n",
       "    }\n",
       "</style>\n",
       "<table border=\"1\" class=\"dataframe\">\n",
       "  <thead>\n",
       "    <tr style=\"text-align: right;\">\n",
       "      <th></th>\n",
       "      <th>Location</th>\n",
       "      <th>count</th>\n",
       "    </tr>\n",
       "  </thead>\n",
       "  <tbody>\n",
       "    <tr>\n",
       "      <th>14</th>\n",
       "      <td>London, England, United Kingdom</td>\n",
       "      <td>112</td>\n",
       "    </tr>\n",
       "    <tr>\n",
       "      <th>13</th>\n",
       "      <td>London Area, United Kingdom</td>\n",
       "      <td>11</td>\n",
       "    </tr>\n",
       "    <tr>\n",
       "      <th>21</th>\n",
       "      <td>United Kingdom</td>\n",
       "      <td>9</td>\n",
       "    </tr>\n",
       "    <tr>\n",
       "      <th>3</th>\n",
       "      <td>City of London, England, United Kingdom</td>\n",
       "      <td>2</td>\n",
       "    </tr>\n",
       "    <tr>\n",
       "      <th>25</th>\n",
       "      <td>West End, England, United Kingdom</td>\n",
       "      <td>1</td>\n",
       "    </tr>\n",
       "  </tbody>\n",
       "</table>\n",
       "</div>"
      ],
      "text/plain": [
       "                                   Location  count\n",
       "14          London, England, United Kingdom    112\n",
       "13              London Area, United Kingdom     11\n",
       "21                           United Kingdom      9\n",
       "3   City of London, England, United Kingdom      2\n",
       "25        West End, England, United Kingdom      1"
      ]
     },
     "execution_count": 50,
     "metadata": {},
     "output_type": "execute_result"
    }
   ],
   "source": [
    "citynumbers"
   ]
  },
  {
   "cell_type": "code",
   "execution_count": 51,
   "id": "weekly-rendering",
   "metadata": {},
   "outputs": [],
   "source": [
    "industry=first.groupby('Industry')['Degree'] \\\n",
    "                             .count() \\\n",
    "                             .reset_index(name='count') \\\n",
    "                             .sort_values(['count'], ascending=False) \\\n",
    "                             .head(10)"
   ]
  },
  {
   "cell_type": "code",
   "execution_count": 52,
   "id": "improved-hygiene",
   "metadata": {},
   "outputs": [
    {
     "data": {
      "text/html": [
       "<div>\n",
       "<style scoped>\n",
       "    .dataframe tbody tr th:only-of-type {\n",
       "        vertical-align: middle;\n",
       "    }\n",
       "\n",
       "    .dataframe tbody tr th {\n",
       "        vertical-align: top;\n",
       "    }\n",
       "\n",
       "    .dataframe thead th {\n",
       "        text-align: right;\n",
       "    }\n",
       "</style>\n",
       "<table border=\"1\" class=\"dataframe\">\n",
       "  <thead>\n",
       "    <tr style=\"text-align: right;\">\n",
       "      <th></th>\n",
       "      <th>Industry</th>\n",
       "      <th>count</th>\n",
       "    </tr>\n",
       "  </thead>\n",
       "  <tbody>\n",
       "    <tr>\n",
       "      <th>1</th>\n",
       "      <td>Financial Services</td>\n",
       "      <td>148</td>\n",
       "    </tr>\n",
       "    <tr>\n",
       "      <th>0</th>\n",
       "      <td>Electrical/Electronic Manufacturing</td>\n",
       "      <td>9</td>\n",
       "    </tr>\n",
       "  </tbody>\n",
       "</table>\n",
       "</div>"
      ],
      "text/plain": [
       "                              Industry  count\n",
       "1                   Financial Services    148\n",
       "0  Electrical/Electronic Manufacturing      9"
      ]
     },
     "execution_count": 52,
     "metadata": {},
     "output_type": "execute_result"
    }
   ],
   "source": [
    "industry"
   ]
  },
  {
   "cell_type": "code",
   "execution_count": 53,
   "id": "chronic-kentucky",
   "metadata": {},
   "outputs": [],
   "source": [
    "company=first.groupby('Company')['Degree'] \\\n",
    "                             .count() \\\n",
    "                             .reset_index(name='count') \\\n",
    "                             .sort_values(['count'], ascending=False) \\\n",
    "                             .head(5)"
   ]
  },
  {
   "cell_type": "code",
   "execution_count": 54,
   "id": "elder-rings",
   "metadata": {},
   "outputs": [
    {
     "data": {
      "text/html": [
       "<div>\n",
       "<style scoped>\n",
       "    .dataframe tbody tr th:only-of-type {\n",
       "        vertical-align: middle;\n",
       "    }\n",
       "\n",
       "    .dataframe tbody tr th {\n",
       "        vertical-align: top;\n",
       "    }\n",
       "\n",
       "    .dataframe thead th {\n",
       "        text-align: right;\n",
       "    }\n",
       "</style>\n",
       "<table border=\"1\" class=\"dataframe\">\n",
       "  <thead>\n",
       "    <tr style=\"text-align: right;\">\n",
       "      <th></th>\n",
       "      <th>Company</th>\n",
       "      <th>count</th>\n",
       "    </tr>\n",
       "  </thead>\n",
       "  <tbody>\n",
       "    <tr>\n",
       "      <th>81</th>\n",
       "      <td>HSBC</td>\n",
       "      <td>2</td>\n",
       "    </tr>\n",
       "    <tr>\n",
       "      <th>0</th>\n",
       "      <td>111 Security Systems LTD</td>\n",
       "      <td>1</td>\n",
       "    </tr>\n",
       "    <tr>\n",
       "      <th>107</th>\n",
       "      <td>Met T&amp;S</td>\n",
       "      <td>1</td>\n",
       "    </tr>\n",
       "    <tr>\n",
       "      <th>100</th>\n",
       "      <td>METIS</td>\n",
       "      <td>1</td>\n",
       "    </tr>\n",
       "    <tr>\n",
       "      <th>101</th>\n",
       "      <td>MJ Hudson Meyler</td>\n",
       "      <td>1</td>\n",
       "    </tr>\n",
       "  </tbody>\n",
       "</table>\n",
       "</div>"
      ],
      "text/plain": [
       "                      Company  count\n",
       "81                       HSBC      2\n",
       "0    111 Security Systems LTD      1\n",
       "107                   Met T&S      1\n",
       "100                     METIS      1\n",
       "101          MJ Hudson Meyler      1"
      ]
     },
     "execution_count": 54,
     "metadata": {},
     "output_type": "execute_result"
    }
   ],
   "source": [
    "company"
   ]
  },
  {
   "cell_type": "code",
   "execution_count": 81,
   "id": "comfortable-exemption",
   "metadata": {},
   "outputs": [],
   "source": [
    "title=first.groupby('Title')['Degree'] \\\n",
    "                             .count() \\\n",
    "                             .reset_index(name='count') \\\n",
    "                             .sort_values(['count'], ascending=False) \\\n",
    "                             .head(5)"
   ]
  },
  {
   "cell_type": "code",
   "execution_count": 82,
   "id": "editorial-silver",
   "metadata": {},
   "outputs": [
    {
     "data": {
      "text/html": [
       "<div>\n",
       "<style scoped>\n",
       "    .dataframe tbody tr th:only-of-type {\n",
       "        vertical-align: middle;\n",
       "    }\n",
       "\n",
       "    .dataframe tbody tr th {\n",
       "        vertical-align: top;\n",
       "    }\n",
       "\n",
       "    .dataframe thead th {\n",
       "        text-align: right;\n",
       "    }\n",
       "</style>\n",
       "<table border=\"1\" class=\"dataframe\">\n",
       "  <thead>\n",
       "    <tr style=\"text-align: right;\">\n",
       "      <th></th>\n",
       "      <th>Title</th>\n",
       "      <th>count</th>\n",
       "    </tr>\n",
       "  </thead>\n",
       "  <tbody>\n",
       "    <tr>\n",
       "      <th>58</th>\n",
       "      <td>Managing Director</td>\n",
       "      <td>46</td>\n",
       "    </tr>\n",
       "    <tr>\n",
       "      <th>22</th>\n",
       "      <td>Director</td>\n",
       "      <td>8</td>\n",
       "    </tr>\n",
       "    <tr>\n",
       "      <th>25</th>\n",
       "      <td>Director Of Business Development</td>\n",
       "      <td>5</td>\n",
       "    </tr>\n",
       "    <tr>\n",
       "      <th>37</th>\n",
       "      <td>Founder</td>\n",
       "      <td>4</td>\n",
       "    </tr>\n",
       "    <tr>\n",
       "      <th>39</th>\n",
       "      <td>Founder &amp; Managing Director</td>\n",
       "      <td>2</td>\n",
       "    </tr>\n",
       "  </tbody>\n",
       "</table>\n",
       "</div>"
      ],
      "text/plain": [
       "                               Title  count\n",
       "58                 Managing Director     46\n",
       "22                          Director      8\n",
       "25  Director Of Business Development      5\n",
       "37                           Founder      4\n",
       "39       Founder & Managing Director      2"
      ]
     },
     "execution_count": 82,
     "metadata": {},
     "output_type": "execute_result"
    }
   ],
   "source": [
    "title"
   ]
  },
  {
   "cell_type": "code",
   "execution_count": 57,
   "id": "extraordinary-marine",
   "metadata": {},
   "outputs": [
    {
     "data": {
      "text/plain": [
       "209     False\n",
       "210     False\n",
       "211     False\n",
       "212     False\n",
       "213     False\n",
       "        ...  \n",
       "1209    False\n",
       "1210    False\n",
       "1211    False\n",
       "1212    False\n",
       "1213    False\n",
       "Name: Title, Length: 157, dtype: bool"
      ]
     },
     "execution_count": 57,
     "metadata": {},
     "output_type": "execute_result"
    }
   ],
   "source": [
    "first['Title']=='Director of Business Development'"
   ]
  },
  {
   "cell_type": "code",
   "execution_count": 58,
   "id": "alone-battle",
   "metadata": {},
   "outputs": [],
   "source": [
    "DBD=first['Title']=='Director Of Business Development'"
   ]
  },
  {
   "cell_type": "code",
   "execution_count": 92,
   "id": "twelve-spider",
   "metadata": {},
   "outputs": [],
   "source": [
    "dbd=first[DBD]"
   ]
  },
  {
   "cell_type": "code",
   "execution_count": 93,
   "id": "elegant-thousand",
   "metadata": {},
   "outputs": [
    {
     "data": {
      "text/plain": [
       "id                5\n",
       "VisitTime         5\n",
       "Profile           5\n",
       "SalesProfile      5\n",
       "Picture           5\n",
       "Degree            5\n",
       "First Name        5\n",
       "Middle Name       5\n",
       "Last Name         5\n",
       "Connections       5\n",
       "Summary           5\n",
       "From              5\n",
       "Title             5\n",
       "Company           5\n",
       "CompanyProfile    5\n",
       "CompanyWebsite    5\n",
       "Email             5\n",
       "Phone             5\n",
       "IM                5\n",
       "Twitter           5\n",
       "Location          5\n",
       "Industry          5\n",
       "My Tags           5\n",
       "My Notes          0\n",
       "Unnamed: 24       0\n",
       "dtype: int64"
      ]
     },
     "execution_count": 93,
     "metadata": {},
     "output_type": "execute_result"
    }
   ],
   "source": [
    "dbd.count()"
   ]
  },
  {
   "cell_type": "code",
   "execution_count": 61,
   "id": "combined-noise",
   "metadata": {},
   "outputs": [
    {
     "data": {
      "text/plain": [
       "209     False\n",
       "210      True\n",
       "211     False\n",
       "212     False\n",
       "213     False\n",
       "        ...  \n",
       "1209    False\n",
       "1210    False\n",
       "1211     True\n",
       "1212    False\n",
       "1213     True\n",
       "Name: Title, Length: 157, dtype: bool"
      ]
     },
     "execution_count": 61,
     "metadata": {},
     "output_type": "execute_result"
    }
   ],
   "source": [
    "first['Title']=='Managing Director'"
   ]
  },
  {
   "cell_type": "code",
   "execution_count": null,
   "id": "incoming-answer",
   "metadata": {},
   "outputs": [],
   "source": []
  },
  {
   "cell_type": "code",
   "execution_count": null,
   "id": "inclusive-beatles",
   "metadata": {},
   "outputs": [],
   "source": []
  },
  {
   "cell_type": "code",
   "execution_count": null,
   "id": "vocal-insulin",
   "metadata": {},
   "outputs": [],
   "source": []
  },
  {
   "cell_type": "code",
   "execution_count": 62,
   "id": "bored-venezuela",
   "metadata": {},
   "outputs": [],
   "source": [
    "MD=first['Title']=='Managing Director'"
   ]
  },
  {
   "cell_type": "code",
   "execution_count": 63,
   "id": "color-trainer",
   "metadata": {},
   "outputs": [
    {
     "data": {
      "text/plain": [
       "209     False\n",
       "210      True\n",
       "211     False\n",
       "212     False\n",
       "213     False\n",
       "        ...  \n",
       "1209    False\n",
       "1210    False\n",
       "1211     True\n",
       "1212    False\n",
       "1213     True\n",
       "Name: Title, Length: 157, dtype: bool"
      ]
     },
     "execution_count": 63,
     "metadata": {},
     "output_type": "execute_result"
    }
   ],
   "source": [
    "MD"
   ]
  },
  {
   "cell_type": "code",
   "execution_count": 66,
   "id": "received-berkeley",
   "metadata": {},
   "outputs": [],
   "source": [
    "md=first[MD]"
   ]
  },
  {
   "cell_type": "code",
   "execution_count": 67,
   "id": "talented-examination",
   "metadata": {},
   "outputs": [
    {
     "data": {
      "text/plain": [
       "Title\n",
       "Managing Director    46\n",
       "Name: Degree, dtype: int64"
      ]
     },
     "execution_count": 67,
     "metadata": {},
     "output_type": "execute_result"
    }
   ],
   "source": [
    "md.groupby('Title')['Degree'].count()"
   ]
  },
  {
   "cell_type": "code",
   "execution_count": 88,
   "id": "found-favorite",
   "metadata": {},
   "outputs": [
    {
     "data": {
      "text/plain": [
       "id                46\n",
       "VisitTime         46\n",
       "Profile           46\n",
       "SalesProfile      46\n",
       "Picture           46\n",
       "Degree            46\n",
       "First Name        46\n",
       "Middle Name       46\n",
       "Last Name         46\n",
       "Connections       46\n",
       "Summary           46\n",
       "From              46\n",
       "Title             46\n",
       "Company           46\n",
       "CompanyProfile    46\n",
       "CompanyWebsite    46\n",
       "Email             46\n",
       "Phone             46\n",
       "IM                46\n",
       "Twitter           46\n",
       "Location          46\n",
       "Industry          46\n",
       "My Tags           46\n",
       "My Notes           0\n",
       "Unnamed: 24        0\n",
       "dtype: int64"
      ]
     },
     "execution_count": 88,
     "metadata": {},
     "output_type": "execute_result"
    }
   ],
   "source": [
    "md.count()"
   ]
  },
  {
   "cell_type": "code",
   "execution_count": 69,
   "id": "proprietary-renewal",
   "metadata": {},
   "outputs": [
    {
     "data": {
      "text/plain": [
       "209     False\n",
       "210     False\n",
       "211     False\n",
       "212     False\n",
       "213     False\n",
       "        ...  \n",
       "1209    False\n",
       "1210    False\n",
       "1211    False\n",
       "1212    False\n",
       "1213    False\n",
       "Name: Title, Length: 157, dtype: bool"
      ]
     },
     "execution_count": 69,
     "metadata": {},
     "output_type": "execute_result"
    }
   ],
   "source": [
    "first['Title']=='Marketing Director'"
   ]
  },
  {
   "cell_type": "code",
   "execution_count": 76,
   "id": "exposed-opportunity",
   "metadata": {},
   "outputs": [],
   "source": [
    "MarD=first['Title']=='Marketing Director'"
   ]
  },
  {
   "cell_type": "code",
   "execution_count": 77,
   "id": "hearing-africa",
   "metadata": {},
   "outputs": [],
   "source": [
    "Mark=first[MarD]"
   ]
  },
  {
   "cell_type": "code",
   "execution_count": 89,
   "id": "emotional-knife",
   "metadata": {},
   "outputs": [
    {
     "data": {
      "text/plain": [
       "id                1\n",
       "VisitTime         1\n",
       "Profile           1\n",
       "SalesProfile      1\n",
       "Picture           1\n",
       "Degree            1\n",
       "First Name        1\n",
       "Middle Name       1\n",
       "Last Name         1\n",
       "Connections       1\n",
       "Summary           1\n",
       "From              1\n",
       "Title             1\n",
       "Company           1\n",
       "CompanyProfile    1\n",
       "CompanyWebsite    1\n",
       "Email             1\n",
       "Phone             1\n",
       "IM                1\n",
       "Twitter           1\n",
       "Location          1\n",
       "Industry          1\n",
       "My Tags           1\n",
       "My Notes          0\n",
       "Unnamed: 24       0\n",
       "dtype: int64"
      ]
     },
     "execution_count": 89,
     "metadata": {},
     "output_type": "execute_result"
    }
   ],
   "source": [
    "Mark.count()"
   ]
  },
  {
   "cell_type": "code",
   "execution_count": 95,
   "id": "cooperative-luxury",
   "metadata": {},
   "outputs": [
    {
     "data": {
      "text/plain": [
       "209     False\n",
       "210     False\n",
       "211     False\n",
       "212     False\n",
       "213     False\n",
       "        ...  \n",
       "1209    False\n",
       "1210    False\n",
       "1211    False\n",
       "1212    False\n",
       "1213    False\n",
       "Name: Title, Length: 157, dtype: bool"
      ]
     },
     "execution_count": 95,
     "metadata": {},
     "output_type": "execute_result"
    }
   ],
   "source": [
    "first['Title']=='Marketing Manager'"
   ]
  },
  {
   "cell_type": "code",
   "execution_count": 96,
   "id": "premium-right",
   "metadata": {},
   "outputs": [],
   "source": [
    "MarM=first['Title']=='Marketing Manager'"
   ]
  },
  {
   "cell_type": "code",
   "execution_count": 98,
   "id": "pregnant-spray",
   "metadata": {},
   "outputs": [],
   "source": [
    "MM=first[MarM]"
   ]
  },
  {
   "cell_type": "code",
   "execution_count": 99,
   "id": "incorporate-fifth",
   "metadata": {},
   "outputs": [
    {
     "data": {
      "text/plain": [
       "id                1\n",
       "VisitTime         1\n",
       "Profile           1\n",
       "SalesProfile      1\n",
       "Picture           1\n",
       "Degree            1\n",
       "First Name        1\n",
       "Middle Name       1\n",
       "Last Name         1\n",
       "Connections       1\n",
       "Summary           1\n",
       "From              1\n",
       "Title             1\n",
       "Company           1\n",
       "CompanyProfile    1\n",
       "CompanyWebsite    1\n",
       "Email             1\n",
       "Phone             1\n",
       "IM                1\n",
       "Twitter           1\n",
       "Location          1\n",
       "Industry          1\n",
       "My Tags           1\n",
       "My Notes          0\n",
       "Unnamed: 24       0\n",
       "dtype: int64"
      ]
     },
     "execution_count": 99,
     "metadata": {},
     "output_type": "execute_result"
    }
   ],
   "source": [
    "MM.count()"
   ]
  },
  {
   "cell_type": "code",
   "execution_count": 101,
   "id": "acknowledged-botswana",
   "metadata": {},
   "outputs": [
    {
     "data": {
      "text/plain": [
       "209     False\n",
       "210     False\n",
       "211     False\n",
       "212     False\n",
       "213     False\n",
       "        ...  \n",
       "1209    False\n",
       "1210    False\n",
       "1211    False\n",
       "1212    False\n",
       "1213    False\n",
       "Name: Title, Length: 157, dtype: bool"
      ]
     },
     "execution_count": 101,
     "metadata": {},
     "output_type": "execute_result"
    }
   ],
   "source": [
    "first['Title']=='Sales Director'"
   ]
  },
  {
   "cell_type": "code",
   "execution_count": 102,
   "id": "pregnant-vanilla",
   "metadata": {},
   "outputs": [],
   "source": [
    "sd=first['Title']=='Sales Director'"
   ]
  },
  {
   "cell_type": "code",
   "execution_count": 103,
   "id": "sacred-mandate",
   "metadata": {},
   "outputs": [],
   "source": [
    "SD=first[sd]"
   ]
  },
  {
   "cell_type": "code",
   "execution_count": 104,
   "id": "enabling-spank",
   "metadata": {},
   "outputs": [
    {
     "data": {
      "text/plain": [
       "id                1\n",
       "VisitTime         1\n",
       "Profile           1\n",
       "SalesProfile      1\n",
       "Picture           1\n",
       "Degree            1\n",
       "First Name        1\n",
       "Middle Name       1\n",
       "Last Name         1\n",
       "Connections       1\n",
       "Summary           1\n",
       "From              1\n",
       "Title             1\n",
       "Company           1\n",
       "CompanyProfile    1\n",
       "CompanyWebsite    1\n",
       "Email             1\n",
       "Phone             1\n",
       "IM                1\n",
       "Twitter           1\n",
       "Location          1\n",
       "Industry          1\n",
       "My Tags           1\n",
       "My Notes          0\n",
       "Unnamed: 24       0\n",
       "dtype: int64"
      ]
     },
     "execution_count": 104,
     "metadata": {},
     "output_type": "execute_result"
    }
   ],
   "source": [
    "SD.count()"
   ]
  },
  {
   "cell_type": "code",
   "execution_count": null,
   "id": "working-vulnerability",
   "metadata": {},
   "outputs": [],
   "source": []
  }
 ],
 "metadata": {
  "kernelspec": {
   "display_name": "Python 3",
   "language": "python",
   "name": "python3"
  },
  "language_info": {
   "codemirror_mode": {
    "name": "ipython",
    "version": 3
   },
   "file_extension": ".py",
   "mimetype": "text/x-python",
   "name": "python",
   "nbconvert_exporter": "python",
   "pygments_lexer": "ipython3",
   "version": "3.7.9"
  }
 },
 "nbformat": 4,
 "nbformat_minor": 5
}
