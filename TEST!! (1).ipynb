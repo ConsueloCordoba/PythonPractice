{
 "cells": [
  {
   "cell_type": "markdown",
   "metadata": {},
   "source": [
    "## TEST"
   ]
  },
  {
   "cell_type": "code",
   "execution_count": 25,
   "metadata": {},
   "outputs": [],
   "source": [
    "import pandas as pd"
   ]
  },
  {
   "cell_type": "code",
   "execution_count": 26,
   "metadata": {},
   "outputs": [],
   "source": [
    "import numpy as np"
   ]
  },
  {
   "cell_type": "code",
   "execution_count": 27,
   "metadata": {},
   "outputs": [],
   "source": [
    "import seaborn as sns"
   ]
  },
  {
   "cell_type": "code",
   "execution_count": 28,
   "metadata": {},
   "outputs": [],
   "source": [
    "df = pd.read_csv('TESTforPandas.csv',skiprows=1)"
   ]
  },
  {
   "cell_type": "code",
   "execution_count": 51,
   "metadata": {},
   "outputs": [
    {
     "data": {
      "text/html": [
       "<div>\n",
       "<style scoped>\n",
       "    .dataframe tbody tr th:only-of-type {\n",
       "        vertical-align: middle;\n",
       "    }\n",
       "\n",
       "    .dataframe tbody tr th {\n",
       "        vertical-align: top;\n",
       "    }\n",
       "\n",
       "    .dataframe thead th {\n",
       "        text-align: right;\n",
       "    }\n",
       "</style>\n",
       "<table border=\"1\" class=\"dataframe\">\n",
       "  <thead>\n",
       "    <tr style=\"text-align: right;\">\n",
       "      <th></th>\n",
       "      <th>id</th>\n",
       "      <th>ScanTime</th>\n",
       "      <th>Profile</th>\n",
       "      <th>First Name</th>\n",
       "      <th>Middle Name</th>\n",
       "      <th>Last Name</th>\n",
       "      <th>Title</th>\n",
       "      <th>Company</th>\n",
       "      <th>CompanyID</th>\n",
       "      <th>Location</th>\n",
       "      <th>My Notes</th>\n",
       "      <th>Unnamed: 11</th>\n",
       "    </tr>\n",
       "  </thead>\n",
       "  <tbody>\n",
       "    <tr>\n",
       "      <th>0</th>\n",
       "      <td>id.3561902</td>\n",
       "      <td>2021/02/09 15:00:57</td>\n",
       "      <td>https://www.linkedin.com/sales/people/ACwAAAA2...</td>\n",
       "      <td>Noam</td>\n",
       "      <td></td>\n",
       "      <td>Zeigerson</td>\n",
       "      <td>Chief Data and Technology Officer</td>\n",
       "      <td>Tandem Money</td>\n",
       "      <td>10177460</td>\n",
       "      <td>London, England, United Kingdom</td>\n",
       "      <td>NaN</td>\n",
       "      <td>NaN</td>\n",
       "    </tr>\n",
       "    <tr>\n",
       "      <th>1</th>\n",
       "      <td>id.117578644</td>\n",
       "      <td>2021/02/09 15:00:57</td>\n",
       "      <td>https://www.linkedin.com/sales/people/ACwAAAcC...</td>\n",
       "      <td>Paul</td>\n",
       "      <td></td>\n",
       "      <td>Munnelly</td>\n",
       "      <td>Board Member</td>\n",
       "      <td>Munnelly Group PLC</td>\n",
       "      <td>11298850</td>\n",
       "      <td>London, England, United Kingdom</td>\n",
       "      <td>NaN</td>\n",
       "      <td>NaN</td>\n",
       "    </tr>\n",
       "    <tr>\n",
       "      <th>2</th>\n",
       "      <td>id.144909651</td>\n",
       "      <td>2021/02/09 15:00:57</td>\n",
       "      <td>https://www.linkedin.com/sales/people/ACwAAAij...</td>\n",
       "      <td>Gerry</td>\n",
       "      <td>Waterfield</td>\n",
       "      <td>Mbcs</td>\n",
       "      <td>Director of IT Global Operations</td>\n",
       "      <td>Save the Children International</td>\n",
       "      <td>2892473</td>\n",
       "      <td>London, England, United Kingdom</td>\n",
       "      <td>NaN</td>\n",
       "      <td>NaN</td>\n",
       "    </tr>\n",
       "    <tr>\n",
       "      <th>3</th>\n",
       "      <td>id.721610</td>\n",
       "      <td>2021/02/09 15:00:57</td>\n",
       "      <td>https://www.linkedin.com/sales/people/ACwAAAAL...</td>\n",
       "      <td>Steve</td>\n",
       "      <td></td>\n",
       "      <td>Clarke</td>\n",
       "      <td>Director</td>\n",
       "      <td>CryptoCycle</td>\n",
       "      <td>33294032</td>\n",
       "      <td>Abingdon, England, United Kingdom</td>\n",
       "      <td>NaN</td>\n",
       "      <td>NaN</td>\n",
       "    </tr>\n",
       "    <tr>\n",
       "      <th>4</th>\n",
       "      <td>id.76230969</td>\n",
       "      <td>2021/02/09 15:00:57</td>\n",
       "      <td>https://www.linkedin.com/sales/people/ACwAAASL...</td>\n",
       "      <td>Stefan</td>\n",
       "      <td></td>\n",
       "      <td>Terblanche</td>\n",
       "      <td>Business Owner &amp; Director</td>\n",
       "      <td>Brewup Coffee Co.</td>\n",
       "      <td>33206904</td>\n",
       "      <td>Windsor, England, United Kingdom</td>\n",
       "      <td>NaN</td>\n",
       "      <td>NaN</td>\n",
       "    </tr>\n",
       "    <tr>\n",
       "      <th>...</th>\n",
       "      <td>...</td>\n",
       "      <td>...</td>\n",
       "      <td>...</td>\n",
       "      <td>...</td>\n",
       "      <td>...</td>\n",
       "      <td>...</td>\n",
       "      <td>...</td>\n",
       "      <td>...</td>\n",
       "      <td>...</td>\n",
       "      <td>...</td>\n",
       "      <td>...</td>\n",
       "      <td>...</td>\n",
       "    </tr>\n",
       "    <tr>\n",
       "      <th>267</th>\n",
       "      <td>id.64547937</td>\n",
       "      <td>2021/02/09 15:05:20</td>\n",
       "      <td>https://www.linkedin.com/sales/people/ACwAAAPY...</td>\n",
       "      <td>Jason</td>\n",
       "      <td></td>\n",
       "      <td>Thompson</td>\n",
       "      <td>IT Infrastructure Engineer</td>\n",
       "      <td>Peabody</td>\n",
       "      <td>35096</td>\n",
       "      <td>London, England, United Kingdom</td>\n",
       "      <td>NaN</td>\n",
       "      <td>NaN</td>\n",
       "    </tr>\n",
       "    <tr>\n",
       "      <th>268</th>\n",
       "      <td>id.500342640</td>\n",
       "      <td>2021/02/09 15:05:20</td>\n",
       "      <td>https://www.linkedin.com/sales/people/ACwAAB3S...</td>\n",
       "      <td>Mark</td>\n",
       "      <td></td>\n",
       "      <td>Fowler</td>\n",
       "      <td>Systems Engineer</td>\n",
       "      <td>Leonardo</td>\n",
       "      <td>11713</td>\n",
       "      <td>Portsmouth, England, United Kingdom</td>\n",
       "      <td>NaN</td>\n",
       "      <td>NaN</td>\n",
       "    </tr>\n",
       "    <tr>\n",
       "      <th>269</th>\n",
       "      <td>id.643857380</td>\n",
       "      <td>2021/02/09 15:05:20</td>\n",
       "      <td>https://www.linkedin.com/sales/people/ACwAACZg...</td>\n",
       "      <td>Callum</td>\n",
       "      <td></td>\n",
       "      <td>Perkins</td>\n",
       "      <td>Computer Repair Technician</td>\n",
       "      <td>CeX</td>\n",
       "      <td>1032889</td>\n",
       "      <td>Bournemouth, England, United Kingdom</td>\n",
       "      <td>NaN</td>\n",
       "      <td>NaN</td>\n",
       "    </tr>\n",
       "    <tr>\n",
       "      <th>270</th>\n",
       "      <td>id.30764335</td>\n",
       "      <td>2021/02/09 15:05:20</td>\n",
       "      <td>https://www.linkedin.com/sales/people/ACwAAAHV...</td>\n",
       "      <td>Trevor</td>\n",
       "      <td></td>\n",
       "      <td>H</td>\n",
       "      <td>Information Technology Consultant</td>\n",
       "      <td>Funasset Limited</td>\n",
       "      <td>4006656</td>\n",
       "      <td>London, England, United Kingdom</td>\n",
       "      <td>NaN</td>\n",
       "      <td>NaN</td>\n",
       "    </tr>\n",
       "    <tr>\n",
       "      <th>271</th>\n",
       "      <td>id.766485575</td>\n",
       "      <td>2021/02/09 15:05:20</td>\n",
       "      <td>https://www.linkedin.com/sales/people/ACwAAC2v...</td>\n",
       "      <td>Katharine</td>\n",
       "      <td></td>\n",
       "      <td>Jones</td>\n",
       "      <td>Information Technology Support Analyst</td>\n",
       "      <td>ParkerSteel Limited</td>\n",
       "      <td>1780586</td>\n",
       "      <td>Rochester, England, United Kingdom</td>\n",
       "      <td>NaN</td>\n",
       "      <td>NaN</td>\n",
       "    </tr>\n",
       "  </tbody>\n",
       "</table>\n",
       "<p>272 rows × 12 columns</p>\n",
       "</div>"
      ],
      "text/plain": [
       "               id             ScanTime  \\\n",
       "0      id.3561902  2021/02/09 15:00:57   \n",
       "1    id.117578644  2021/02/09 15:00:57   \n",
       "2    id.144909651  2021/02/09 15:00:57   \n",
       "3       id.721610  2021/02/09 15:00:57   \n",
       "4     id.76230969  2021/02/09 15:00:57   \n",
       "..            ...                  ...   \n",
       "267   id.64547937  2021/02/09 15:05:20   \n",
       "268  id.500342640  2021/02/09 15:05:20   \n",
       "269  id.643857380  2021/02/09 15:05:20   \n",
       "270   id.30764335  2021/02/09 15:05:20   \n",
       "271  id.766485575  2021/02/09 15:05:20   \n",
       "\n",
       "                                               Profile First Name Middle Name  \\\n",
       "0    https://www.linkedin.com/sales/people/ACwAAAA2...       Noam               \n",
       "1    https://www.linkedin.com/sales/people/ACwAAAcC...       Paul               \n",
       "2    https://www.linkedin.com/sales/people/ACwAAAij...      Gerry  Waterfield   \n",
       "3    https://www.linkedin.com/sales/people/ACwAAAAL...      Steve               \n",
       "4    https://www.linkedin.com/sales/people/ACwAAASL...     Stefan               \n",
       "..                                                 ...        ...         ...   \n",
       "267  https://www.linkedin.com/sales/people/ACwAAAPY...      Jason               \n",
       "268  https://www.linkedin.com/sales/people/ACwAAB3S...       Mark               \n",
       "269  https://www.linkedin.com/sales/people/ACwAACZg...     Callum               \n",
       "270  https://www.linkedin.com/sales/people/ACwAAAHV...     Trevor               \n",
       "271  https://www.linkedin.com/sales/people/ACwAAC2v...  Katharine               \n",
       "\n",
       "      Last Name                                   Title  \\\n",
       "0     Zeigerson       Chief Data and Technology Officer   \n",
       "1      Munnelly                            Board Member   \n",
       "2          Mbcs        Director of IT Global Operations   \n",
       "3        Clarke                                Director   \n",
       "4    Terblanche               Business Owner & Director   \n",
       "..          ...                                     ...   \n",
       "267    Thompson              IT Infrastructure Engineer   \n",
       "268      Fowler                        Systems Engineer   \n",
       "269     Perkins              Computer Repair Technician   \n",
       "270           H       Information Technology Consultant   \n",
       "271       Jones  Information Technology Support Analyst   \n",
       "\n",
       "                             Company CompanyID  \\\n",
       "0                       Tandem Money  10177460   \n",
       "1                 Munnelly Group PLC  11298850   \n",
       "2    Save the Children International   2892473   \n",
       "3                        CryptoCycle  33294032   \n",
       "4                  Brewup Coffee Co.  33206904   \n",
       "..                               ...       ...   \n",
       "267                          Peabody     35096   \n",
       "268                         Leonardo     11713   \n",
       "269                              CeX   1032889   \n",
       "270                 Funasset Limited   4006656   \n",
       "271              ParkerSteel Limited   1780586   \n",
       "\n",
       "                                 Location  My Notes  Unnamed: 11  \n",
       "0         London, England, United Kingdom       NaN          NaN  \n",
       "1         London, England, United Kingdom       NaN          NaN  \n",
       "2         London, England, United Kingdom       NaN          NaN  \n",
       "3       Abingdon, England, United Kingdom       NaN          NaN  \n",
       "4        Windsor, England, United Kingdom       NaN          NaN  \n",
       "..                                    ...       ...          ...  \n",
       "267       London, England, United Kingdom       NaN          NaN  \n",
       "268   Portsmouth, England, United Kingdom       NaN          NaN  \n",
       "269  Bournemouth, England, United Kingdom       NaN          NaN  \n",
       "270       London, England, United Kingdom       NaN          NaN  \n",
       "271    Rochester, England, United Kingdom       NaN          NaN  \n",
       "\n",
       "[272 rows x 12 columns]"
      ]
     },
     "execution_count": 51,
     "metadata": {},
     "output_type": "execute_result"
    }
   ],
   "source": [
    "df"
   ]
  },
  {
   "cell_type": "code",
   "execution_count": 29,
   "metadata": {},
   "outputs": [
    {
     "data": {
      "text/html": [
       "<div>\n",
       "<style scoped>\n",
       "    .dataframe tbody tr th:only-of-type {\n",
       "        vertical-align: middle;\n",
       "    }\n",
       "\n",
       "    .dataframe tbody tr th {\n",
       "        vertical-align: top;\n",
       "    }\n",
       "\n",
       "    .dataframe thead th {\n",
       "        text-align: right;\n",
       "    }\n",
       "</style>\n",
       "<table border=\"1\" class=\"dataframe\">\n",
       "  <thead>\n",
       "    <tr style=\"text-align: right;\">\n",
       "      <th></th>\n",
       "      <th>id</th>\n",
       "      <th>ScanTime</th>\n",
       "      <th>Profile</th>\n",
       "      <th>First Name</th>\n",
       "      <th>Middle Name</th>\n",
       "      <th>Last Name</th>\n",
       "      <th>Title</th>\n",
       "      <th>Company</th>\n",
       "      <th>CompanyID</th>\n",
       "      <th>Location</th>\n",
       "      <th>My Notes</th>\n",
       "      <th>Unnamed: 11</th>\n",
       "    </tr>\n",
       "  </thead>\n",
       "  <tbody>\n",
       "    <tr>\n",
       "      <th>0</th>\n",
       "      <td>id.3561902</td>\n",
       "      <td>2021/02/09 15:00:57</td>\n",
       "      <td>https://www.linkedin.com/sales/people/ACwAAAA2...</td>\n",
       "      <td>Noam</td>\n",
       "      <td></td>\n",
       "      <td>Zeigerson</td>\n",
       "      <td>Chief Data and Technology Officer</td>\n",
       "      <td>Tandem Money</td>\n",
       "      <td>10177460</td>\n",
       "      <td>London, England, United Kingdom</td>\n",
       "      <td>NaN</td>\n",
       "      <td>NaN</td>\n",
       "    </tr>\n",
       "    <tr>\n",
       "      <th>1</th>\n",
       "      <td>id.117578644</td>\n",
       "      <td>2021/02/09 15:00:57</td>\n",
       "      <td>https://www.linkedin.com/sales/people/ACwAAAcC...</td>\n",
       "      <td>Paul</td>\n",
       "      <td></td>\n",
       "      <td>Munnelly</td>\n",
       "      <td>Board Member</td>\n",
       "      <td>Munnelly Group PLC</td>\n",
       "      <td>11298850</td>\n",
       "      <td>London, England, United Kingdom</td>\n",
       "      <td>NaN</td>\n",
       "      <td>NaN</td>\n",
       "    </tr>\n",
       "    <tr>\n",
       "      <th>2</th>\n",
       "      <td>id.144909651</td>\n",
       "      <td>2021/02/09 15:00:57</td>\n",
       "      <td>https://www.linkedin.com/sales/people/ACwAAAij...</td>\n",
       "      <td>Gerry</td>\n",
       "      <td>Waterfield</td>\n",
       "      <td>Mbcs</td>\n",
       "      <td>Director of IT Global Operations</td>\n",
       "      <td>Save the Children International</td>\n",
       "      <td>2892473</td>\n",
       "      <td>London, England, United Kingdom</td>\n",
       "      <td>NaN</td>\n",
       "      <td>NaN</td>\n",
       "    </tr>\n",
       "    <tr>\n",
       "      <th>3</th>\n",
       "      <td>id.721610</td>\n",
       "      <td>2021/02/09 15:00:57</td>\n",
       "      <td>https://www.linkedin.com/sales/people/ACwAAAAL...</td>\n",
       "      <td>Steve</td>\n",
       "      <td></td>\n",
       "      <td>Clarke</td>\n",
       "      <td>Director</td>\n",
       "      <td>CryptoCycle</td>\n",
       "      <td>33294032</td>\n",
       "      <td>Abingdon, England, United Kingdom</td>\n",
       "      <td>NaN</td>\n",
       "      <td>NaN</td>\n",
       "    </tr>\n",
       "    <tr>\n",
       "      <th>4</th>\n",
       "      <td>id.76230969</td>\n",
       "      <td>2021/02/09 15:00:57</td>\n",
       "      <td>https://www.linkedin.com/sales/people/ACwAAASL...</td>\n",
       "      <td>Stefan</td>\n",
       "      <td></td>\n",
       "      <td>Terblanche</td>\n",
       "      <td>Business Owner &amp; Director</td>\n",
       "      <td>Brewup Coffee Co.</td>\n",
       "      <td>33206904</td>\n",
       "      <td>Windsor, England, United Kingdom</td>\n",
       "      <td>NaN</td>\n",
       "      <td>NaN</td>\n",
       "    </tr>\n",
       "  </tbody>\n",
       "</table>\n",
       "</div>"
      ],
      "text/plain": [
       "             id             ScanTime  \\\n",
       "0    id.3561902  2021/02/09 15:00:57   \n",
       "1  id.117578644  2021/02/09 15:00:57   \n",
       "2  id.144909651  2021/02/09 15:00:57   \n",
       "3     id.721610  2021/02/09 15:00:57   \n",
       "4   id.76230969  2021/02/09 15:00:57   \n",
       "\n",
       "                                             Profile First Name Middle Name  \\\n",
       "0  https://www.linkedin.com/sales/people/ACwAAAA2...       Noam               \n",
       "1  https://www.linkedin.com/sales/people/ACwAAAcC...       Paul               \n",
       "2  https://www.linkedin.com/sales/people/ACwAAAij...      Gerry  Waterfield   \n",
       "3  https://www.linkedin.com/sales/people/ACwAAAAL...      Steve               \n",
       "4  https://www.linkedin.com/sales/people/ACwAAASL...     Stefan               \n",
       "\n",
       "    Last Name                              Title  \\\n",
       "0   Zeigerson  Chief Data and Technology Officer   \n",
       "1    Munnelly                       Board Member   \n",
       "2        Mbcs   Director of IT Global Operations   \n",
       "3      Clarke                           Director   \n",
       "4  Terblanche          Business Owner & Director   \n",
       "\n",
       "                           Company CompanyID  \\\n",
       "0                     Tandem Money  10177460   \n",
       "1               Munnelly Group PLC  11298850   \n",
       "2  Save the Children International   2892473   \n",
       "3                      CryptoCycle  33294032   \n",
       "4                Brewup Coffee Co.  33206904   \n",
       "\n",
       "                            Location  My Notes  Unnamed: 11  \n",
       "0    London, England, United Kingdom       NaN          NaN  \n",
       "1    London, England, United Kingdom       NaN          NaN  \n",
       "2    London, England, United Kingdom       NaN          NaN  \n",
       "3  Abingdon, England, United Kingdom       NaN          NaN  \n",
       "4   Windsor, England, United Kingdom       NaN          NaN  "
      ]
     },
     "execution_count": 29,
     "metadata": {},
     "output_type": "execute_result"
    }
   ],
   "source": [
    "df.head()"
   ]
  },
  {
   "cell_type": "code",
   "execution_count": 30,
   "metadata": {},
   "outputs": [
    {
     "name": "stdout",
     "output_type": "stream",
     "text": [
      "<class 'pandas.core.frame.DataFrame'>\n",
      "RangeIndex: 272 entries, 0 to 271\n",
      "Data columns (total 12 columns):\n",
      " #   Column       Non-Null Count  Dtype  \n",
      "---  ------       --------------  -----  \n",
      " 0   id           272 non-null    object \n",
      " 1   ScanTime     272 non-null    object \n",
      " 2   Profile      272 non-null    object \n",
      " 3   First Name   272 non-null    object \n",
      " 4   Middle Name  272 non-null    object \n",
      " 5   Last Name    272 non-null    object \n",
      " 6   Title        272 non-null    object \n",
      " 7   Company      272 non-null    object \n",
      " 8   CompanyID    272 non-null    object \n",
      " 9   Location     272 non-null    object \n",
      " 10  My Notes     0 non-null      float64\n",
      " 11  Unnamed: 11  0 non-null      float64\n",
      "dtypes: float64(2), object(10)\n",
      "memory usage: 25.6+ KB\n"
     ]
    }
   ],
   "source": [
    "df.info()"
   ]
  },
  {
   "cell_type": "code",
   "execution_count": 21,
   "metadata": {},
   "outputs": [],
   "source": [
    "df.dropna(inplace=True)"
   ]
  },
  {
   "cell_type": "code",
   "execution_count": 32,
   "metadata": {},
   "outputs": [
    {
     "data": {
      "text/plain": [
       "0           London, England, United Kingdom\n",
       "1           London, England, United Kingdom\n",
       "2           London, England, United Kingdom\n",
       "3         Abingdon, England, United Kingdom\n",
       "4          Windsor, England, United Kingdom\n",
       "                       ...                 \n",
       "267         London, England, United Kingdom\n",
       "268     Portsmouth, England, United Kingdom\n",
       "269    Bournemouth, England, United Kingdom\n",
       "270         London, England, United Kingdom\n",
       "271      Rochester, England, United Kingdom\n",
       "Name: Location, Length: 272, dtype: object"
      ]
     },
     "execution_count": 32,
     "metadata": {},
     "output_type": "execute_result"
    }
   ],
   "source": [
    "df['Location']"
   ]
  },
  {
   "cell_type": "code",
   "execution_count": 31,
   "metadata": {},
   "outputs": [
    {
     "data": {
      "text/plain": [
       "count                                 272\n",
       "unique                                137\n",
       "top       London, England, United Kingdom\n",
       "freq                                   63\n",
       "Name: Location, dtype: object"
      ]
     },
     "execution_count": 31,
     "metadata": {},
     "output_type": "execute_result"
    }
   ],
   "source": [
    "df['Location'].describe()"
   ]
  },
  {
   "cell_type": "code",
   "execution_count": 14,
   "metadata": {},
   "outputs": [
    {
     "data": {
      "text/plain": [
       "0    London, England, United Kingdom\n",
       "dtype: object"
      ]
     },
     "execution_count": 14,
     "metadata": {},
     "output_type": "execute_result"
    }
   ],
   "source": [
    "df['Location'].mode()"
   ]
  },
  {
   "cell_type": "code",
   "execution_count": 47,
   "metadata": {},
   "outputs": [],
   "source": [
    "LocatedInLondon=df['Location']=='London, England, United Kingdom'"
   ]
  },
  {
   "cell_type": "code",
   "execution_count": 48,
   "metadata": {},
   "outputs": [
    {
     "data": {
      "text/plain": [
       "0       True\n",
       "1       True\n",
       "2       True\n",
       "3      False\n",
       "4      False\n",
       "       ...  \n",
       "267     True\n",
       "268    False\n",
       "269    False\n",
       "270     True\n",
       "271    False\n",
       "Name: Location, Length: 272, dtype: bool"
      ]
     },
     "execution_count": 48,
     "metadata": {},
     "output_type": "execute_result"
    }
   ],
   "source": [
    "LocatedInLondon"
   ]
  },
  {
   "cell_type": "code",
   "execution_count": 49,
   "metadata": {},
   "outputs": [
    {
     "data": {
      "text/html": [
       "<div>\n",
       "<style scoped>\n",
       "    .dataframe tbody tr th:only-of-type {\n",
       "        vertical-align: middle;\n",
       "    }\n",
       "\n",
       "    .dataframe tbody tr th {\n",
       "        vertical-align: top;\n",
       "    }\n",
       "\n",
       "    .dataframe thead th {\n",
       "        text-align: right;\n",
       "    }\n",
       "</style>\n",
       "<table border=\"1\" class=\"dataframe\">\n",
       "  <thead>\n",
       "    <tr style=\"text-align: right;\">\n",
       "      <th></th>\n",
       "      <th>id</th>\n",
       "      <th>ScanTime</th>\n",
       "      <th>Profile</th>\n",
       "      <th>First Name</th>\n",
       "      <th>Middle Name</th>\n",
       "      <th>Last Name</th>\n",
       "      <th>Title</th>\n",
       "      <th>Company</th>\n",
       "      <th>CompanyID</th>\n",
       "      <th>Location</th>\n",
       "      <th>My Notes</th>\n",
       "      <th>Unnamed: 11</th>\n",
       "    </tr>\n",
       "  </thead>\n",
       "  <tbody>\n",
       "    <tr>\n",
       "      <th>0</th>\n",
       "      <td>id.3561902</td>\n",
       "      <td>2021/02/09 15:00:57</td>\n",
       "      <td>https://www.linkedin.com/sales/people/ACwAAAA2...</td>\n",
       "      <td>Noam</td>\n",
       "      <td></td>\n",
       "      <td>Zeigerson</td>\n",
       "      <td>Chief Data and Technology Officer</td>\n",
       "      <td>Tandem Money</td>\n",
       "      <td>10177460</td>\n",
       "      <td>London, England, United Kingdom</td>\n",
       "      <td>NaN</td>\n",
       "      <td>NaN</td>\n",
       "    </tr>\n",
       "    <tr>\n",
       "      <th>1</th>\n",
       "      <td>id.117578644</td>\n",
       "      <td>2021/02/09 15:00:57</td>\n",
       "      <td>https://www.linkedin.com/sales/people/ACwAAAcC...</td>\n",
       "      <td>Paul</td>\n",
       "      <td></td>\n",
       "      <td>Munnelly</td>\n",
       "      <td>Board Member</td>\n",
       "      <td>Munnelly Group PLC</td>\n",
       "      <td>11298850</td>\n",
       "      <td>London, England, United Kingdom</td>\n",
       "      <td>NaN</td>\n",
       "      <td>NaN</td>\n",
       "    </tr>\n",
       "    <tr>\n",
       "      <th>2</th>\n",
       "      <td>id.144909651</td>\n",
       "      <td>2021/02/09 15:00:57</td>\n",
       "      <td>https://www.linkedin.com/sales/people/ACwAAAij...</td>\n",
       "      <td>Gerry</td>\n",
       "      <td>Waterfield</td>\n",
       "      <td>Mbcs</td>\n",
       "      <td>Director of IT Global Operations</td>\n",
       "      <td>Save the Children International</td>\n",
       "      <td>2892473</td>\n",
       "      <td>London, England, United Kingdom</td>\n",
       "      <td>NaN</td>\n",
       "      <td>NaN</td>\n",
       "    </tr>\n",
       "    <tr>\n",
       "      <th>6</th>\n",
       "      <td>id.81881883</td>\n",
       "      <td>2021/02/09 15:00:57</td>\n",
       "      <td>https://www.linkedin.com/sales/people/ACwAAATh...</td>\n",
       "      <td>Lee</td>\n",
       "      <td></td>\n",
       "      <td>Rose</td>\n",
       "      <td>Head of IT Operations</td>\n",
       "      <td>Peabody</td>\n",
       "      <td>35096</td>\n",
       "      <td>London, England, United Kingdom</td>\n",
       "      <td>NaN</td>\n",
       "      <td>NaN</td>\n",
       "    </tr>\n",
       "    <tr>\n",
       "      <th>8</th>\n",
       "      <td>id.1677604</td>\n",
       "      <td>2021/02/09 15:00:57</td>\n",
       "      <td>https://www.linkedin.com/sales/people/ACwAAAAZ...</td>\n",
       "      <td>Neil</td>\n",
       "      <td></td>\n",
       "      <td>Price</td>\n",
       "      <td>Practice Head - CIO &amp; Executive Technology Lea...</td>\n",
       "      <td>Harvey Nash Group</td>\n",
       "      <td>164131</td>\n",
       "      <td>London, England, United Kingdom</td>\n",
       "      <td>NaN</td>\n",
       "      <td>NaN</td>\n",
       "    </tr>\n",
       "    <tr>\n",
       "      <th>...</th>\n",
       "      <td>...</td>\n",
       "      <td>...</td>\n",
       "      <td>...</td>\n",
       "      <td>...</td>\n",
       "      <td>...</td>\n",
       "      <td>...</td>\n",
       "      <td>...</td>\n",
       "      <td>...</td>\n",
       "      <td>...</td>\n",
       "      <td>...</td>\n",
       "      <td>...</td>\n",
       "      <td>...</td>\n",
       "    </tr>\n",
       "    <tr>\n",
       "      <th>259</th>\n",
       "      <td>id.558260837</td>\n",
       "      <td>2021/02/09 15:05:20</td>\n",
       "      <td>https://www.linkedin.com/sales/people/ACwAACFG...</td>\n",
       "      <td>Kyriacos</td>\n",
       "      <td></td>\n",
       "      <td>Taliotis</td>\n",
       "      <td>Commercial Systems and Online Infrastructure E...</td>\n",
       "      <td>The Royal Household</td>\n",
       "      <td>9499605</td>\n",
       "      <td>London, England, United Kingdom</td>\n",
       "      <td>NaN</td>\n",
       "      <td>NaN</td>\n",
       "    </tr>\n",
       "    <tr>\n",
       "      <th>262</th>\n",
       "      <td>id.141565001</td>\n",
       "      <td>2021/02/09 15:05:20</td>\n",
       "      <td>https://www.linkedin.com/sales/people/ACwAAAhw...</td>\n",
       "      <td>Winston</td>\n",
       "      <td></td>\n",
       "      <td>R</td>\n",
       "      <td>3rd Line Systems Engineer</td>\n",
       "      <td>Clyde &amp; Co LLP</td>\n",
       "      <td>284053</td>\n",
       "      <td>London, England, United Kingdom</td>\n",
       "      <td>NaN</td>\n",
       "      <td>NaN</td>\n",
       "    </tr>\n",
       "    <tr>\n",
       "      <th>264</th>\n",
       "      <td>id.29067553</td>\n",
       "      <td>2021/02/09 15:05:20</td>\n",
       "      <td>https://www.linkedin.com/sales/people/ACwAAAG7...</td>\n",
       "      <td>Surinder</td>\n",
       "      <td></td>\n",
       "      <td>Singh-Rawat</td>\n",
       "      <td>Network Engineer</td>\n",
       "      <td>The Royal Household</td>\n",
       "      <td>9499605</td>\n",
       "      <td>London, England, United Kingdom</td>\n",
       "      <td>NaN</td>\n",
       "      <td>NaN</td>\n",
       "    </tr>\n",
       "    <tr>\n",
       "      <th>267</th>\n",
       "      <td>id.64547937</td>\n",
       "      <td>2021/02/09 15:05:20</td>\n",
       "      <td>https://www.linkedin.com/sales/people/ACwAAAPY...</td>\n",
       "      <td>Jason</td>\n",
       "      <td></td>\n",
       "      <td>Thompson</td>\n",
       "      <td>IT Infrastructure Engineer</td>\n",
       "      <td>Peabody</td>\n",
       "      <td>35096</td>\n",
       "      <td>London, England, United Kingdom</td>\n",
       "      <td>NaN</td>\n",
       "      <td>NaN</td>\n",
       "    </tr>\n",
       "    <tr>\n",
       "      <th>270</th>\n",
       "      <td>id.30764335</td>\n",
       "      <td>2021/02/09 15:05:20</td>\n",
       "      <td>https://www.linkedin.com/sales/people/ACwAAAHV...</td>\n",
       "      <td>Trevor</td>\n",
       "      <td></td>\n",
       "      <td>H</td>\n",
       "      <td>Information Technology Consultant</td>\n",
       "      <td>Funasset Limited</td>\n",
       "      <td>4006656</td>\n",
       "      <td>London, England, United Kingdom</td>\n",
       "      <td>NaN</td>\n",
       "      <td>NaN</td>\n",
       "    </tr>\n",
       "  </tbody>\n",
       "</table>\n",
       "<p>63 rows × 12 columns</p>\n",
       "</div>"
      ],
      "text/plain": [
       "               id             ScanTime  \\\n",
       "0      id.3561902  2021/02/09 15:00:57   \n",
       "1    id.117578644  2021/02/09 15:00:57   \n",
       "2    id.144909651  2021/02/09 15:00:57   \n",
       "6     id.81881883  2021/02/09 15:00:57   \n",
       "8      id.1677604  2021/02/09 15:00:57   \n",
       "..            ...                  ...   \n",
       "259  id.558260837  2021/02/09 15:05:20   \n",
       "262  id.141565001  2021/02/09 15:05:20   \n",
       "264   id.29067553  2021/02/09 15:05:20   \n",
       "267   id.64547937  2021/02/09 15:05:20   \n",
       "270   id.30764335  2021/02/09 15:05:20   \n",
       "\n",
       "                                               Profile First Name Middle Name  \\\n",
       "0    https://www.linkedin.com/sales/people/ACwAAAA2...       Noam               \n",
       "1    https://www.linkedin.com/sales/people/ACwAAAcC...       Paul               \n",
       "2    https://www.linkedin.com/sales/people/ACwAAAij...      Gerry  Waterfield   \n",
       "6    https://www.linkedin.com/sales/people/ACwAAATh...        Lee               \n",
       "8    https://www.linkedin.com/sales/people/ACwAAAAZ...       Neil               \n",
       "..                                                 ...        ...         ...   \n",
       "259  https://www.linkedin.com/sales/people/ACwAACFG...   Kyriacos               \n",
       "262  https://www.linkedin.com/sales/people/ACwAAAhw...    Winston               \n",
       "264  https://www.linkedin.com/sales/people/ACwAAAG7...   Surinder               \n",
       "267  https://www.linkedin.com/sales/people/ACwAAAPY...      Jason               \n",
       "270  https://www.linkedin.com/sales/people/ACwAAAHV...     Trevor               \n",
       "\n",
       "       Last Name                                              Title  \\\n",
       "0      Zeigerson                  Chief Data and Technology Officer   \n",
       "1       Munnelly                                       Board Member   \n",
       "2           Mbcs                   Director of IT Global Operations   \n",
       "6           Rose                              Head of IT Operations   \n",
       "8          Price  Practice Head - CIO & Executive Technology Lea...   \n",
       "..           ...                                                ...   \n",
       "259     Taliotis  Commercial Systems and Online Infrastructure E...   \n",
       "262            R                          3rd Line Systems Engineer   \n",
       "264  Singh-Rawat                                   Network Engineer   \n",
       "267     Thompson                         IT Infrastructure Engineer   \n",
       "270            H                  Information Technology Consultant   \n",
       "\n",
       "                             Company CompanyID  \\\n",
       "0                       Tandem Money  10177460   \n",
       "1                 Munnelly Group PLC  11298850   \n",
       "2    Save the Children International   2892473   \n",
       "6                            Peabody     35096   \n",
       "8                  Harvey Nash Group    164131   \n",
       "..                               ...       ...   \n",
       "259              The Royal Household   9499605   \n",
       "262                   Clyde & Co LLP    284053   \n",
       "264              The Royal Household   9499605   \n",
       "267                          Peabody     35096   \n",
       "270                 Funasset Limited   4006656   \n",
       "\n",
       "                            Location  My Notes  Unnamed: 11  \n",
       "0    London, England, United Kingdom       NaN          NaN  \n",
       "1    London, England, United Kingdom       NaN          NaN  \n",
       "2    London, England, United Kingdom       NaN          NaN  \n",
       "6    London, England, United Kingdom       NaN          NaN  \n",
       "8    London, England, United Kingdom       NaN          NaN  \n",
       "..                               ...       ...          ...  \n",
       "259  London, England, United Kingdom       NaN          NaN  \n",
       "262  London, England, United Kingdom       NaN          NaN  \n",
       "264  London, England, United Kingdom       NaN          NaN  \n",
       "267  London, England, United Kingdom       NaN          NaN  \n",
       "270  London, England, United Kingdom       NaN          NaN  \n",
       "\n",
       "[63 rows x 12 columns]"
      ]
     },
     "execution_count": 49,
     "metadata": {},
     "output_type": "execute_result"
    }
   ],
   "source": [
    "df[LocatedInLondon]"
   ]
  },
  {
   "cell_type": "code",
   "execution_count": 50,
   "metadata": {},
   "outputs": [
    {
     "data": {
      "text/plain": [
       "id             63\n",
       "ScanTime       63\n",
       "Profile        63\n",
       "First Name     63\n",
       "Middle Name    63\n",
       "Last Name      63\n",
       "Title          63\n",
       "Company        63\n",
       "CompanyID      63\n",
       "Location       63\n",
       "My Notes        0\n",
       "Unnamed: 11     0\n",
       "dtype: int64"
      ]
     },
     "execution_count": 50,
     "metadata": {},
     "output_type": "execute_result"
    }
   ],
   "source": [
    "df[LocatedInLondon].count()"
   ]
  },
  {
   "cell_type": "code",
   "execution_count": null,
   "metadata": {},
   "outputs": [],
   "source": []
  },
  {
   "cell_type": "code",
   "execution_count": null,
   "metadata": {},
   "outputs": [],
   "source": []
  },
  {
   "cell_type": "code",
   "execution_count": 33,
   "metadata": {},
   "outputs": [],
   "source": [
    "df_by_Location = df.groupby('Location')"
   ]
  },
  {
   "cell_type": "code",
   "execution_count": 34,
   "metadata": {},
   "outputs": [
    {
     "data": {
      "text/plain": [
       "<pandas.core.groupby.generic.DataFrameGroupBy object at 0x7f8356c406d0>"
      ]
     },
     "execution_count": 34,
     "metadata": {},
     "output_type": "execute_result"
    }
   ],
   "source": [
    "df_by_Location"
   ]
  },
  {
   "cell_type": "code",
   "execution_count": 37,
   "metadata": {},
   "outputs": [
    {
     "ename": "TypeError",
     "evalue": "count() takes at least 1 argument (0 given)",
     "output_type": "error",
     "traceback": [
      "\u001b[0;31m---------------------------------------------------------------------------\u001b[0m",
      "\u001b[0;31mTypeError\u001b[0m                                 Traceback (most recent call last)",
      "\u001b[0;32m<ipython-input-37-7799c00dfa4b>\u001b[0m in \u001b[0;36m<module>\u001b[0;34m\u001b[0m\n\u001b[0;32m----> 1\u001b[0;31m \u001b[0mdf_count\u001b[0m \u001b[0;34m=\u001b[0m \u001b[0;34m'Location'\u001b[0m\u001b[0;34m.\u001b[0m\u001b[0mcount\u001b[0m\u001b[0;34m(\u001b[0m\u001b[0;34m)\u001b[0m\u001b[0;34m\u001b[0m\u001b[0;34m\u001b[0m\u001b[0m\n\u001b[0m",
      "\u001b[0;31mTypeError\u001b[0m: count() takes at least 1 argument (0 given)"
     ]
    }
   ],
   "source": []
  },
  {
   "cell_type": "code",
   "execution_count": null,
   "metadata": {},
   "outputs": [],
   "source": []
  },
  {
   "cell_type": "code",
   "execution_count": null,
   "metadata": {},
   "outputs": [],
   "source": []
  },
  {
   "cell_type": "code",
   "execution_count": null,
   "metadata": {},
   "outputs": [],
   "source": []
  },
  {
   "cell_type": "code",
   "execution_count": 12,
   "metadata": {},
   "outputs": [
    {
     "data": {
      "image/png": "[encoded data removed]",
      "text/plain": [
       "<Figure size 432x288 with 1 Axes>"
      ]
     },
     "metadata": {
      "needs_background": "light"
     },
     "output_type": "display_data"
    }
   ],
   "source": [
    "ax = sns.countplot('Location', data=df)\n",
    "ax.set_title('Location of the Connections');\n",
    "ax.set_xlabel('Places');\n",
    "ax.set_ylabel('Frequency');"
   ]
  },
  {
   "cell_type": "code",
   "execution_count": null,
   "metadata": {},
   "outputs": [],
   "source": []
  },
  {
   "cell_type": "code",
   "execution_count": null,
   "metadata": {},
   "outputs": [],
   "source": []
  },
  {
   "cell_type": "code",
   "execution_count": 38,
   "metadata": {},
   "outputs": [
    {
     "data": {
      "text/plain": [
       "0           Chief Data and Technology Officer\n",
       "1                                Board Member\n",
       "2            Director of IT Global Operations\n",
       "3                                    Director\n",
       "4                   Business Owner & Director\n",
       "                        ...                  \n",
       "267                IT Infrastructure Engineer\n",
       "268                          Systems Engineer\n",
       "269                Computer Repair Technician\n",
       "270         Information Technology Consultant\n",
       "271    Information Technology Support Analyst\n",
       "Name: Title, Length: 272, dtype: object"
      ]
     },
     "execution_count": 38,
     "metadata": {},
     "output_type": "execute_result"
    }
   ],
   "source": [
    "df['Title']"
   ]
  },
  {
   "cell_type": "code",
   "execution_count": 39,
   "metadata": {},
   "outputs": [
    {
     "data": {
      "text/plain": [
       "count                         272\n",
       "unique                        245\n",
       "top       Infrastructure Engineer\n",
       "freq                            6\n",
       "Name: Title, dtype: object"
      ]
     },
     "execution_count": 39,
     "metadata": {},
     "output_type": "execute_result"
    }
   ],
   "source": [
    "df['Title'].describe()"
   ]
  },
  {
   "cell_type": "code",
   "execution_count": 41,
   "metadata": {},
   "outputs": [
    {
     "data": {
      "text/plain": [
       "0    Infrastructure Engineer\n",
       "dtype: object"
      ]
     },
     "execution_count": 41,
     "metadata": {},
     "output_type": "execute_result"
    }
   ],
   "source": [
    "df['Title'].mode()"
   ]
  },
  {
   "cell_type": "code",
   "execution_count": 43,
   "metadata": {},
   "outputs": [],
   "source": [
    "InfrastructureEngineer=df['Title']=='Infrastructure Engineer'"
   ]
  },
  {
   "cell_type": "code",
   "execution_count": 44,
   "metadata": {},
   "outputs": [
    {
     "data": {
      "text/plain": [
       "0      False\n",
       "1      False\n",
       "2      False\n",
       "3      False\n",
       "4      False\n",
       "       ...  \n",
       "267    False\n",
       "268    False\n",
       "269    False\n",
       "270    False\n",
       "271    False\n",
       "Name: Title, Length: 272, dtype: bool"
      ]
     },
     "execution_count": 44,
     "metadata": {},
     "output_type": "execute_result"
    }
   ],
   "source": [
    "InfrastructureEngineer"
   ]
  },
  {
   "cell_type": "code",
   "execution_count": 45,
   "metadata": {},
   "outputs": [
    {
     "data": {
      "text/html": [
       "<div>\n",
       "<style scoped>\n",
       "    .dataframe tbody tr th:only-of-type {\n",
       "        vertical-align: middle;\n",
       "    }\n",
       "\n",
       "    .dataframe tbody tr th {\n",
       "        vertical-align: top;\n",
       "    }\n",
       "\n",
       "    .dataframe thead th {\n",
       "        text-align: right;\n",
       "    }\n",
       "</style>\n",
       "<table border=\"1\" class=\"dataframe\">\n",
       "  <thead>\n",
       "    <tr style=\"text-align: right;\">\n",
       "      <th></th>\n",
       "      <th>id</th>\n",
       "      <th>ScanTime</th>\n",
       "      <th>Profile</th>\n",
       "      <th>First Name</th>\n",
       "      <th>Middle Name</th>\n",
       "      <th>Last Name</th>\n",
       "      <th>Title</th>\n",
       "      <th>Company</th>\n",
       "      <th>CompanyID</th>\n",
       "      <th>Location</th>\n",
       "      <th>My Notes</th>\n",
       "      <th>Unnamed: 11</th>\n",
       "    </tr>\n",
       "  </thead>\n",
       "  <tbody>\n",
       "    <tr>\n",
       "      <th>46</th>\n",
       "      <td>id.121094102</td>\n",
       "      <td>2021/02/09 15:01:19</td>\n",
       "      <td>https://www.linkedin.com/sales/people/ACwAAAc3...</td>\n",
       "      <td>Or</td>\n",
       "      <td></td>\n",
       "      <td>Avraham</td>\n",
       "      <td>Infrastructure Engineer</td>\n",
       "      <td>Regatta Ltd</td>\n",
       "      <td>1153932</td>\n",
       "      <td>Hale, England, United Kingdom</td>\n",
       "      <td>NaN</td>\n",
       "      <td>NaN</td>\n",
       "    </tr>\n",
       "    <tr>\n",
       "      <th>81</th>\n",
       "      <td>id.173790162</td>\n",
       "      <td>2021/02/09 15:02:09</td>\n",
       "      <td>https://www.linkedin.com/sales/people/ACwAAApb...</td>\n",
       "      <td>Son</td>\n",
       "      <td></td>\n",
       "      <td>Nguyen</td>\n",
       "      <td>Infrastructure Engineer</td>\n",
       "      <td>Bio Products Laboratory Limited</td>\n",
       "      <td>10386465</td>\n",
       "      <td>London, England, United Kingdom</td>\n",
       "      <td>NaN</td>\n",
       "      <td>NaN</td>\n",
       "    </tr>\n",
       "    <tr>\n",
       "      <th>201</th>\n",
       "      <td>id.369439135</td>\n",
       "      <td>2021/02/09 15:04:29</td>\n",
       "      <td>https://www.linkedin.com/sales/people/ACwAABYF...</td>\n",
       "      <td>Kai</td>\n",
       "      <td></td>\n",
       "      <td>Rood</td>\n",
       "      <td>Infrastructure Engineer</td>\n",
       "      <td>Everyone Active - SLM</td>\n",
       "      <td>2077722</td>\n",
       "      <td>Leicester, England, United Kingdom</td>\n",
       "      <td>NaN</td>\n",
       "      <td>NaN</td>\n",
       "    </tr>\n",
       "    <tr>\n",
       "      <th>209</th>\n",
       "      <td>id.109135470</td>\n",
       "      <td>2021/02/09 15:04:29</td>\n",
       "      <td>https://www.linkedin.com/sales/people/ACwAAAaB...</td>\n",
       "      <td>Glenn</td>\n",
       "      <td></td>\n",
       "      <td>Fletcher</td>\n",
       "      <td>Infrastructure Engineer</td>\n",
       "      <td>Medivet The Vets</td>\n",
       "      <td>616940</td>\n",
       "      <td>St. Albans, England, United Kingdom</td>\n",
       "      <td>NaN</td>\n",
       "      <td>NaN</td>\n",
       "    </tr>\n",
       "    <tr>\n",
       "      <th>241</th>\n",
       "      <td>id.489602780</td>\n",
       "      <td>2021/02/09 15:04:41</td>\n",
       "      <td>https://www.linkedin.com/sales/people/ACwAAB0u...</td>\n",
       "      <td>David</td>\n",
       "      <td></td>\n",
       "      <td>Malone</td>\n",
       "      <td>Infrastructure Engineer</td>\n",
       "      <td>Genius Foods</td>\n",
       "      <td>1813688</td>\n",
       "      <td>Edinburgh, Scotland, United Kingdom</td>\n",
       "      <td>NaN</td>\n",
       "      <td>NaN</td>\n",
       "    </tr>\n",
       "    <tr>\n",
       "      <th>260</th>\n",
       "      <td>id.475442663</td>\n",
       "      <td>2021/02/09 15:05:20</td>\n",
       "      <td>https://www.linkedin.com/sales/people/ACwAABxW...</td>\n",
       "      <td>Sean</td>\n",
       "      <td>O</td>\n",
       "      <td>Brien</td>\n",
       "      <td>Infrastructure Engineer</td>\n",
       "      <td>1st CENTRAL</td>\n",
       "      <td>889372</td>\n",
       "      <td>Hove, England, United Kingdom</td>\n",
       "      <td>NaN</td>\n",
       "      <td>NaN</td>\n",
       "    </tr>\n",
       "  </tbody>\n",
       "</table>\n",
       "</div>"
      ],
      "text/plain": [
       "               id             ScanTime  \\\n",
       "46   id.121094102  2021/02/09 15:01:19   \n",
       "81   id.173790162  2021/02/09 15:02:09   \n",
       "201  id.369439135  2021/02/09 15:04:29   \n",
       "209  id.109135470  2021/02/09 15:04:29   \n",
       "241  id.489602780  2021/02/09 15:04:41   \n",
       "260  id.475442663  2021/02/09 15:05:20   \n",
       "\n",
       "                                               Profile First Name Middle Name  \\\n",
       "46   https://www.linkedin.com/sales/people/ACwAAAc3...         Or               \n",
       "81   https://www.linkedin.com/sales/people/ACwAAApb...        Son               \n",
       "201  https://www.linkedin.com/sales/people/ACwAABYF...        Kai               \n",
       "209  https://www.linkedin.com/sales/people/ACwAAAaB...      Glenn               \n",
       "241  https://www.linkedin.com/sales/people/ACwAAB0u...      David               \n",
       "260  https://www.linkedin.com/sales/people/ACwAABxW...       Sean           O   \n",
       "\n",
       "    Last Name                    Title                          Company  \\\n",
       "46    Avraham  Infrastructure Engineer                      Regatta Ltd   \n",
       "81     Nguyen  Infrastructure Engineer  Bio Products Laboratory Limited   \n",
       "201      Rood  Infrastructure Engineer            Everyone Active - SLM   \n",
       "209  Fletcher  Infrastructure Engineer                 Medivet The Vets   \n",
       "241    Malone  Infrastructure Engineer                     Genius Foods   \n",
       "260     Brien  Infrastructure Engineer                      1st CENTRAL   \n",
       "\n",
       "    CompanyID                             Location  My Notes  Unnamed: 11  \n",
       "46    1153932        Hale, England, United Kingdom       NaN          NaN  \n",
       "81   10386465      London, England, United Kingdom       NaN          NaN  \n",
       "201   2077722   Leicester, England, United Kingdom       NaN          NaN  \n",
       "209    616940  St. Albans, England, United Kingdom       NaN          NaN  \n",
       "241   1813688  Edinburgh, Scotland, United Kingdom       NaN          NaN  \n",
       "260    889372        Hove, England, United Kingdom       NaN          NaN  "
      ]
     },
     "execution_count": 45,
     "metadata": {},
     "output_type": "execute_result"
    }
   ],
   "source": [
    "df[InfrastructureEngineer]"
   ]
  },
  {
   "cell_type": "code",
   "execution_count": 46,
   "metadata": {},
   "outputs": [
    {
     "data": {
      "text/plain": [
       "id             6\n",
       "ScanTime       6\n",
       "Profile        6\n",
       "First Name     6\n",
       "Middle Name    6\n",
       "Last Name      6\n",
       "Title          6\n",
       "Company        6\n",
       "CompanyID      6\n",
       "Location       6\n",
       "My Notes       0\n",
       "Unnamed: 11    0\n",
       "dtype: int64"
      ]
     },
     "execution_count": 46,
     "metadata": {},
     "output_type": "execute_result"
    }
   ],
   "source": [
    "df[InfrastructureEngineer].count()"
   ]
  },
  {
   "cell_type": "code",
   "execution_count": 52,
   "metadata": {},
   "outputs": [
    {
     "data": {
      "text/plain": [
       "0                         Tandem Money\n",
       "1                   Munnelly Group PLC\n",
       "2      Save the Children International\n",
       "3                          CryptoCycle\n",
       "4                    Brewup Coffee Co.\n",
       "                    ...               \n",
       "267                            Peabody\n",
       "268                           Leonardo\n",
       "269                                CeX\n",
       "270                   Funasset Limited\n",
       "271                ParkerSteel Limited\n",
       "Name: Company, Length: 272, dtype: object"
      ]
     },
     "execution_count": 52,
     "metadata": {},
     "output_type": "execute_result"
    }
   ],
   "source": [
    "df['Company']"
   ]
  },
  {
   "cell_type": "code",
   "execution_count": 53,
   "metadata": {},
   "outputs": [
    {
     "data": {
      "text/plain": [
       "count           272\n",
       "unique          149\n",
       "top       CityFibre\n",
       "freq             15\n",
       "Name: Company, dtype: object"
      ]
     },
     "execution_count": 53,
     "metadata": {},
     "output_type": "execute_result"
    }
   ],
   "source": [
    "df['Company'].describe()"
   ]
  },
  {
   "cell_type": "code",
   "execution_count": 54,
   "metadata": {},
   "outputs": [],
   "source": [
    "CityFibre=df['Company']=='CityFibre'"
   ]
  },
  {
   "cell_type": "code",
   "execution_count": 55,
   "metadata": {},
   "outputs": [
    {
     "data": {
      "text/plain": [
       "0      False\n",
       "1      False\n",
       "2      False\n",
       "3      False\n",
       "4      False\n",
       "       ...  \n",
       "267    False\n",
       "268    False\n",
       "269    False\n",
       "270    False\n",
       "271    False\n",
       "Name: Company, Length: 272, dtype: bool"
      ]
     },
     "execution_count": 55,
     "metadata": {},
     "output_type": "execute_result"
    }
   ],
   "source": [
    "CityFibre"
   ]
  },
  {
   "cell_type": "code",
   "execution_count": 56,
   "metadata": {},
   "outputs": [
    {
     "data": {
      "text/plain": [
       "id             15\n",
       "ScanTime       15\n",
       "Profile        15\n",
       "First Name     15\n",
       "Middle Name    15\n",
       "Last Name      15\n",
       "Title          15\n",
       "Company        15\n",
       "CompanyID      15\n",
       "Location       15\n",
       "My Notes        0\n",
       "Unnamed: 11     0\n",
       "dtype: int64"
      ]
     },
     "execution_count": 56,
     "metadata": {},
     "output_type": "execute_result"
    }
   ],
   "source": [
    "df[CityFibre].count()"
   ]
  },
  {
   "cell_type": "code",
   "execution_count": 57,
   "metadata": {},
   "outputs": [],
   "source": [
    "Directors=df['Title']=='Director'"
   ]
  },
  {
   "cell_type": "code",
   "execution_count": 58,
   "metadata": {},
   "outputs": [
    {
     "data": {
      "text/plain": [
       "0      False\n",
       "1      False\n",
       "2      False\n",
       "3       True\n",
       "4      False\n",
       "       ...  \n",
       "267    False\n",
       "268    False\n",
       "269    False\n",
       "270    False\n",
       "271    False\n",
       "Name: Title, Length: 272, dtype: bool"
      ]
     },
     "execution_count": 58,
     "metadata": {},
     "output_type": "execute_result"
    }
   ],
   "source": [
    "Directors"
   ]
  },
  {
   "cell_type": "code",
   "execution_count": 59,
   "metadata": {},
   "outputs": [
    {
     "data": {
      "text/plain": [
       "id             2\n",
       "ScanTime       2\n",
       "Profile        2\n",
       "First Name     2\n",
       "Middle Name    2\n",
       "Last Name      2\n",
       "Title          2\n",
       "Company        2\n",
       "CompanyID      2\n",
       "Location       2\n",
       "My Notes       0\n",
       "Unnamed: 11    0\n",
       "dtype: int64"
      ]
     },
     "execution_count": 59,
     "metadata": {},
     "output_type": "execute_result"
    }
   ],
   "source": [
    "df[Directors].count()"
   ]
  },
  {
   "cell_type": "code",
   "execution_count": 60,
   "metadata": {},
   "outputs": [],
   "source": [
    "CIO=df['Title']=='CIO'"
   ]
  },
  {
   "cell_type": "code",
   "execution_count": 61,
   "metadata": {
    "scrolled": true
   },
   "outputs": [
    {
     "data": {
      "text/plain": [
       "0      False\n",
       "1      False\n",
       "2      False\n",
       "3      False\n",
       "4      False\n",
       "       ...  \n",
       "267    False\n",
       "268    False\n",
       "269    False\n",
       "270    False\n",
       "271    False\n",
       "Name: Title, Length: 272, dtype: bool"
      ]
     },
     "execution_count": 61,
     "metadata": {},
     "output_type": "execute_result"
    }
   ],
   "source": [
    "CIO"
   ]
  },
  {
   "cell_type": "code",
   "execution_count": 62,
   "metadata": {},
   "outputs": [
    {
     "data": {
      "text/plain": [
       "id             1\n",
       "ScanTime       1\n",
       "Profile        1\n",
       "First Name     1\n",
       "Middle Name    1\n",
       "Last Name      1\n",
       "Title          1\n",
       "Company        1\n",
       "CompanyID      1\n",
       "Location       1\n",
       "My Notes       0\n",
       "Unnamed: 11    0\n",
       "dtype: int64"
      ]
     },
     "execution_count": 62,
     "metadata": {},
     "output_type": "execute_result"
    }
   ],
   "source": [
    "df[CIO].count()"
   ]
  },
  {
   "cell_type": "code",
   "execution_count": 63,
   "metadata": {},
   "outputs": [],
   "source": [
    "EnterpriseArchitect=df['Title']=='Enterprise Architect'"
   ]
  },
  {
   "cell_type": "code",
   "execution_count": 64,
   "metadata": {},
   "outputs": [
    {
     "data": {
      "text/plain": [
       "0      False\n",
       "1      False\n",
       "2      False\n",
       "3      False\n",
       "4      False\n",
       "       ...  \n",
       "267    False\n",
       "268    False\n",
       "269    False\n",
       "270    False\n",
       "271    False\n",
       "Name: Title, Length: 272, dtype: bool"
      ]
     },
     "execution_count": 64,
     "metadata": {},
     "output_type": "execute_result"
    }
   ],
   "source": [
    "EnterpriseArchitect"
   ]
  },
  {
   "cell_type": "code",
   "execution_count": 65,
   "metadata": {},
   "outputs": [
    {
     "data": {
      "text/plain": [
       "id             0\n",
       "ScanTime       0\n",
       "Profile        0\n",
       "First Name     0\n",
       "Middle Name    0\n",
       "Last Name      0\n",
       "Title          0\n",
       "Company        0\n",
       "CompanyID      0\n",
       "Location       0\n",
       "My Notes       0\n",
       "Unnamed: 11    0\n",
       "dtype: int64"
      ]
     },
     "execution_count": 65,
     "metadata": {},
     "output_type": "execute_result"
    }
   ],
   "source": [
    "df[EnterpriseArchitect].count()"
   ]
  },
  {
   "cell_type": "code",
   "execution_count": 69,
   "metadata": {},
   "outputs": [],
   "source": [
    "HeadOfApplicationsAndInformation=df['Title']=='Head Of Applications & Information'"
   ]
  },
  {
   "cell_type": "code",
   "execution_count": 70,
   "metadata": {},
   "outputs": [
    {
     "data": {
      "text/plain": [
       "0      False\n",
       "1      False\n",
       "2      False\n",
       "3      False\n",
       "4      False\n",
       "       ...  \n",
       "267    False\n",
       "268    False\n",
       "269    False\n",
       "270    False\n",
       "271    False\n",
       "Name: Title, Length: 272, dtype: bool"
      ]
     },
     "execution_count": 70,
     "metadata": {},
     "output_type": "execute_result"
    }
   ],
   "source": [
    "HeadOfApplicationsAndInformation"
   ]
  },
  {
   "cell_type": "code",
   "execution_count": 71,
   "metadata": {},
   "outputs": [
    {
     "data": {
      "text/plain": [
       "id             0\n",
       "ScanTime       0\n",
       "Profile        0\n",
       "First Name     0\n",
       "Middle Name    0\n",
       "Last Name      0\n",
       "Title          0\n",
       "Company        0\n",
       "CompanyID      0\n",
       "Location       0\n",
       "My Notes       0\n",
       "Unnamed: 11    0\n",
       "dtype: int64"
      ]
     },
     "execution_count": 71,
     "metadata": {},
     "output_type": "execute_result"
    }
   ],
   "source": [
    "df[HeadOfApplicationsAndInformation].count()"
   ]
  },
  {
   "cell_type": "code",
   "execution_count": null,
   "metadata": {},
   "outputs": [],
   "source": []
  },
  {
   "cell_type": "code",
   "execution_count": null,
   "metadata": {},
   "outputs": [],
   "source": []
  },
  {
   "cell_type": "code",
   "execution_count": null,
   "metadata": {},
   "outputs": [],
   "source": []
  },
  {
   "cell_type": "code",
   "execution_count": null,
   "metadata": {},
   "outputs": [],
   "source": []
  }
 ],
 "metadata": {
  "kernelspec": {
   "display_name": "Python 3",
   "language": "python",
   "name": "python3"
  },
  "language_info": {
   "codemirror_mode": {
    "name": "ipython",
    "version": 3
   },
   "file_extension": ".py",
   "mimetype": "text/x-python",
   "name": "python",
   "nbconvert_exporter": "python",
   "pygments_lexer": "ipython3",
   "version": "3.7.8"
  }
 },
 "nbformat": 4,
 "nbformat_minor": 4
}
