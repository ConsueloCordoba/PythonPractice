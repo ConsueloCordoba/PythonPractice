{
 "cells": [
  {
   "cell_type": "code",
   "execution_count": 1,
   "id": "d2022717-d3ea-4417-ad1d-ae16b7633245",
   "metadata": {},
   "outputs": [],
   "source": [
    "import json"
   ]
  },
  {
   "cell_type": "code",
   "execution_count": 4,
   "id": "0d780536-6f84-41b1-a08b-71daa093b4e5",
   "metadata": {},
   "outputs": [
    {
     "name": "stdout",
     "output_type": "stream",
     "text": [
      "Collecting facebook-sdk\n",
      "  Downloading facebook_sdk-3.1.0-py2.py3-none-any.whl (7.5 kB)\n",
      "Requirement already satisfied: requests in /srv/conda/envs/notebook/lib/python3.7/site-packages (from facebook-sdk) (2.26.0)\n",
      "Requirement already satisfied: charset-normalizer~=2.0.0 in /srv/conda/envs/notebook/lib/python3.7/site-packages (from requests->facebook-sdk) (2.0.0)\n",
      "Requirement already satisfied: certifi>=2017.4.17 in /srv/conda/envs/notebook/lib/python3.7/site-packages (from requests->facebook-sdk) (2021.5.30)\n",
      "Requirement already satisfied: urllib3<1.27,>=1.21.1 in /srv/conda/envs/notebook/lib/python3.7/site-packages (from requests->facebook-sdk) (1.26.7)\n",
      "Requirement already satisfied: idna<4,>=2.5 in /srv/conda/envs/notebook/lib/python3.7/site-packages (from requests->facebook-sdk) (3.1)\n",
      "Installing collected packages: facebook-sdk\n",
      "Successfully installed facebook-sdk-3.1.0\n",
      "Note: you may need to restart the kernel to use updated packages.\n"
     ]
    }
   ],
   "source": [
    "pip install facebook-sdk"
   ]
  },
  {
   "cell_type": "code",
   "execution_count": 5,
   "id": "618a594f-9303-42bc-bd2d-053e93024954",
   "metadata": {},
   "outputs": [],
   "source": [
    "import facebook"
   ]
  },
  {
   "cell_type": "code",
   "execution_count": 7,
   "id": "6d56a48b-4736-4958-96f1-3eb7ac64fc56",
   "metadata": {},
   "outputs": [],
   "source": [
    "Access_token = \"EAAO99DvwUMgBAOEa6vJTiCakN2geVYw7aVcqza4AnUYMYu48x23Ks06INfwZChJt06dxjdIlifmRv8tiuosZC6xIVeJ1HYosMcgYxfhRa85UNgCbb9LcFjdZCTLODV90rsCGQJq4KDGgOLZBZBoZA1vxwl71LM6MAfBd4xubNl5rPZAPZB3yXpqUNlfyuKWw9Kd9Hvkhgejj5QZDZD\""
   ]
  },
  {
   "cell_type": "code",
   "execution_count": null,
   "id": "1862f6f7-c358-4abb-90c5-9017ff8dce5d",
   "metadata": {},
   "outputs": [],
   "source": []
  }
 ],
 "metadata": {
  "kernelspec": {
   "display_name": "Python 3 (ipykernel)",
   "language": "python",
   "name": "python3"
  },
  "language_info": {
   "codemirror_mode": {
    "name": "ipython",
    "version": 3
   },
   "file_extension": ".py",
   "mimetype": "text/x-python",
   "name": "python",
   "nbconvert_exporter": "python",
   "pygments_lexer": "ipython3",
   "version": "3.7.10"
  }
 },
 "nbformat": 4,
 "nbformat_minor": 5
}
